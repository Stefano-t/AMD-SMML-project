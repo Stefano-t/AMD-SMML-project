{
  "nbformat": 4,
  "nbformat_minor": 0,
  "metadata": {
    "colab": {
      "name": "3-dataframe_project.ipynb",
      "provenance": [],
      "collapsed_sections": [],
      "include_colab_link": true
    },
    "kernelspec": {
      "display_name": "Python 3",
      "language": "python",
      "name": "python3"
    },
    "language_info": {
      "codemirror_mode": {
        "name": "ipython",
        "version": 3
      },
      "file_extension": ".py",
      "mimetype": "text/x-python",
      "name": "python",
      "nbconvert_exporter": "python",
      "pygments_lexer": "ipython3",
      "version": "3.6.10"
    }
  },
  "cells": [
    {
      "cell_type": "markdown",
      "metadata": {
        "id": "view-in-github",
        "colab_type": "text"
      },
      "source": [
        "<a href=\"https://colab.research.google.com/github/Stefano-t/AMD-SMML-project/blob/main/project.ipynb\" target=\"_parent\"><img src=\"https://colab.research.google.com/assets/colab-badge.svg\" alt=\"Open In Colab\"/></a>"
      ]
    },
    {
      "cell_type": "markdown",
      "metadata": {
        "id": "WPqEOENsXxDN"
      },
      "source": [
        "# Install Kaggle and download the dataset"
      ]
    },
    {
      "cell_type": "code",
      "metadata": {
        "id": "k6ls_Hc-R8P6",
        "colab": {
          "base_uri": "https://localhost:8080/"
        },
        "outputId": "c1e84703-1eee-4b16-ff44-a19f42970e4a"
      },
      "source": [
        "!pip install --upgrade --force-reinstall --no-deps kaggle\n",
        "\n",
        "!mkdir ~/.kaggle\n",
        "!echo '{\"username\":\"stefanotaverni\",\"key\":\"c22f4c36169267251f92367e36c7d6fc\"}' > ~/.kaggle/kaggle.json\n",
        "!chmod 600 ~/.kaggle/kaggle.json\n",
        "!kaggle datasets download -d census/2013-american-community-survey\n",
        "!mkdir /content/data\n",
        "print(\"unzip folder...\")\n",
        "!unzip /content/2013-american-community-survey.zip -d /content/data > /dev/null\n",
        "print(\"download completed\")"
      ],
      "execution_count": 1,
      "outputs": [
        {
          "output_type": "stream",
          "text": [
            "Collecting kaggle\n",
            "\u001b[?25l  Downloading https://files.pythonhosted.org/packages/99/33/365c0d13f07a2a54744d027fe20b60dacdfdfb33bc04746db6ad0b79340b/kaggle-1.5.10.tar.gz (59kB)\n",
            "\r\u001b[K     |█████▌                          | 10kB 17.0MB/s eta 0:00:01\r\u001b[K     |███████████                     | 20kB 20.8MB/s eta 0:00:01\r\u001b[K     |████████████████▋               | 30kB 10.9MB/s eta 0:00:01\r\u001b[K     |██████████████████████▏         | 40kB 8.5MB/s eta 0:00:01\r\u001b[K     |███████████████████████████▊    | 51kB 4.4MB/s eta 0:00:01\r\u001b[K     |████████████████████████████████| 61kB 3.1MB/s \n",
            "\u001b[?25hBuilding wheels for collected packages: kaggle\n",
            "  Building wheel for kaggle (setup.py) ... \u001b[?25l\u001b[?25hdone\n",
            "  Created wheel for kaggle: filename=kaggle-1.5.10-cp36-none-any.whl size=73269 sha256=6e0e8892e4aeffa13d3d357d6624b7975324c6c2fff2ba9eb83353c8ad1898d2\n",
            "  Stored in directory: /root/.cache/pip/wheels/3a/d1/7e/6ce09b72b770149802c653a02783821629146983ee5a360f10\n",
            "Successfully built kaggle\n",
            "Installing collected packages: kaggle\n",
            "  Found existing installation: kaggle 1.5.10\n",
            "    Uninstalling kaggle-1.5.10:\n",
            "      Successfully uninstalled kaggle-1.5.10\n",
            "Successfully installed kaggle-1.5.10\n",
            "Downloading 2013-american-community-survey.zip to /content\n",
            " 98% 895M/916M [00:04<00:00, 190MB/s]\n",
            "100% 916M/916M [00:04<00:00, 201MB/s]\n",
            "unzip folder...\n",
            "download completed\n"
          ],
          "name": "stdout"
        }
      ]
    },
    {
      "cell_type": "markdown",
      "metadata": {
        "id": "zq3vtPmJX-kj"
      },
      "source": [
        "# Download Spark and setup the environment"
      ]
    },
    {
      "cell_type": "code",
      "metadata": {
        "id": "w80wHaf0ShdY",
        "colab": {
          "base_uri": "https://localhost:8080/"
        },
        "outputId": "151d70d7-e9d1-4108-b5d9-09356a6956c5"
      },
      "source": [
        "!rm spark-3.0.1-bin-hadoop2.7.tgz*\n",
        "print(\"update system and install jdk 8\")\n",
        "!apt-get update > /dev/null\n",
        "!apt-get install openjdk-8-jdk-headless -qq > /dev/null\n",
        "print(\"download and extract Spark...\")\n",
        "!wget -q https://downloads.apache.org/spark/spark-3.0.1/spark-3.0.1-bin-hadoop2.7.tgz\n",
        "!tar xf spark-3.0.1-bin-hadoop2.7.tgz > /dev/null\n",
        "!pip install -q findspark\n",
        "\n",
        "print(\"setup Spark...\")\n",
        "import os\n",
        "os.environ[\"JAVA_HOME\"] = \"/usr/lib/jvm/java-8-openjdk-amd64\"\n",
        "os.environ[\"SPARK_HOME\"] = \"/content/spark-3.0.1-bin-hadoop2.7\"\n",
        "import findspark\n",
        "findspark.init(\"spark-3.0.1-bin-hadoop2.7\")# SPARK_HOME\n",
        "from pyspark.sql import SparkSession\n",
        "\n",
        "spark_driver_memory = \"8g\"\n",
        "spark_executor_memory = \"1g\"\n",
        "\n",
        "spark = SparkSession.builder \\\n",
        "                    .config(\"spark.driver.memory\", spark_driver_memory) \\\n",
        "                    .config(\"spark.execuror.memory\", spark_executor_memory) \\\n",
        "                    .master(\"local[*]\") \\\n",
        "                    .getOrCreate()\n",
        "print(\"Spark session created\")\n",
        "import pyspark\n",
        "sc = spark.sparkContext\n",
        "print(\"Spark context created\")"
      ],
      "execution_count": 2,
      "outputs": [
        {
          "output_type": "stream",
          "text": [
            "rm: cannot remove 'spark-3.0.1-bin-hadoop2.7.tgz*': No such file or directory\n",
            "update system and install jdk 8\n",
            "download and extract Spark...\n",
            "setup Spark...\n",
            "Spark session created\n",
            "Spark context created\n"
          ],
          "name": "stdout"
        }
      ]
    },
    {
      "cell_type": "markdown",
      "metadata": {
        "id": "lcHF5H32XT4i"
      },
      "source": [
        "# VARIABLES\n",
        "Definition of the main variables to work with."
      ]
    },
    {
      "cell_type": "code",
      "metadata": {
        "id": "ZbyFmDhWXT4k"
      },
      "source": [
        "import numpy as np"
      ],
      "execution_count": 3,
      "outputs": []
    },
    {
      "cell_type": "code",
      "metadata": {
        "id": "WWNWM6cUXT4l",
        "colab": {
          "base_uri": "https://localhost:8080/"
        },
        "outputId": "585e2edf-552c-4797-bc82-6a91ba6e44bb"
      },
      "source": [
        "dataset_to_load = \"ss13pusa.csv\"\n",
        "dataset_sample_fraction = 0.1\n",
        "dataset_sample_seed = 1965\n",
        "\"\"\"Determine how to divide the loaded dataset.\n",
        "\n",
        "The fraction must be a value > 0 and <= 1, and the seed determines the random\n",
        "seed used to split the starting dataset.\n",
        "\"\"\"\n",
        "\n",
        "target_label = \"PINCP\"\n",
        "forbidden_columns = [\"PERNP\", \"WIGP\"]\n",
        "\"\"\"Label to predict and columns to remove.\"\"\"\n",
        "\n",
        "\n",
        "split_weights = [0.9, 0.1]\n",
        "split_seed = 12345\n",
        "\"\"\"Determine how to split the pre-processed Dataframe.\n",
        "\n",
        "The first weight refers to the training set, and the second to the test set.\n",
        "They both need to be values between 0 and 1, and sum up to 1.\n",
        "\"\"\"\n",
        "\n",
        "missing_label_substitution = None\n",
        "\"\"\"string: how to fill the missing values in target label\n",
        "\n",
        "Setting the variable to \"zero\" means substitute empty target cell with 0; a\n",
        "value of None means removing the entire row where datum is missing.\n",
        "\"\"\"\n",
        "\n",
        "nan_substitution_strategy = 'mean'\n",
        "\"\"\"string: The strategy to use to remove NaN.\n",
        "\n",
        "The string can assume the following values:\n",
        "    - \"mean\"\n",
        "    - \"median\"\n",
        "\"\"\"\n",
        "\n",
        "pca_new_space_dimension = 10\n",
        "\"\"\"int: Number of features to preserve with PCA \"\"\"\n",
        "\n",
        "cross_validation_folds = 5\n",
        "cross_validation_internal_split_seed = 1234\n",
        "cross_validation_alphas = [*np.logspace(-8, 0, 7), *np.logspace(0.1, 3, 8)]\n",
        "\"\"\"Number of folds and list of alphas to use in cross validation.\n",
        "\n",
        "Alphas must be a list of values, each of which will be used as ridge regression\n",
        "hyperparameter.\n",
        "\n",
        "The seed is used for internal splitting of the folds.\n",
        "\"\"\"\n",
        "\n",
        "caching = True\n",
        "\"\"\"bool: Decide to cache or not some RDDs. \"\"\"\n",
        "\n",
        "outlier_strategy = None\n",
        "\"\"\"string: The strategy used to trim outliers\n",
        "\n",
        "The admitted string are:\n",
        "    - \"iqr\" = use the interquartile range.\n",
        "\n",
        "If set to None, no trim is performed.\n",
        "\"\"\"\n",
        "\n",
        "number_of_partitions = sc.defaultParallelism * 2\n",
        "\"\"\"int: Define the level of parallelelism to use\n",
        "\n",
        "By default, `defaultParallelism` corresponds to the number of cores of the machine.\n",
        "As a rule of thumbs, a good choice for the number of partitions is two/three times\n",
        "the amount of cores.\n",
        "\"\"\"\n",
        "\n",
        "verbose = False\n",
        "\"\"\"bool: Print information about some expensive operation.\n",
        "\n",
        "This flag is used as a guard for some cpu expensive operation: set it to False\n",
        "to increase the execution time.\n",
        "\"\"\"\n",
        "\n",
        "print()"
      ],
      "execution_count": 4,
      "outputs": [
        {
          "output_type": "stream",
          "text": [
            "\n"
          ],
          "name": "stdout"
        }
      ]
    },
    {
      "cell_type": "markdown",
      "metadata": {
        "id": "XvkHfQ1-R6xl"
      },
      "source": [
        "# Load data into DataFrame"
      ]
    },
    {
      "cell_type": "code",
      "metadata": {
        "id": "24YoM2BpR6xl"
      },
      "source": [
        "# base_path = \"/home/stefano/codes/progetto_amd_prova/\"\n",
        "base_path = '/content/data/'\n",
        "df = spark.read.csv(base_path + dataset_to_load,\n",
        "                    inferSchema=True,\n",
        "                    header=True) \\\n",
        "               .sample(withReplacement=False,\n",
        "                       fraction=dataset_sample_fraction,\n",
        "                       seed=dataset_sample_seed)\n",
        "\n",
        "if verbose:\n",
        "    print('The loaded dataframe has the following shape: {} rows - {} columns'\n",
        "          .format(df.count(), len(df.columns)))"
      ],
      "execution_count": 5,
      "outputs": []
    },
    {
      "cell_type": "code",
      "metadata": {
        "id": "SqtbzINsR6xp"
      },
      "source": [
        "if verbose: df.describe(target_label).show()"
      ],
      "execution_count": 6,
      "outputs": []
    },
    {
      "cell_type": "markdown",
      "metadata": {
        "id": "gOvfidifR6xs"
      },
      "source": [
        "# Preprocessing\n",
        "\n",
        "## remove unused columns"
      ]
    },
    {
      "cell_type": "code",
      "metadata": {
        "colab": {
          "base_uri": "https://localhost:8080/"
        },
        "id": "oP7PhmxpR6xt",
        "outputId": "0de4e72d-6ff2-4b15-aded-6fd4d371e659"
      },
      "source": [
        "# remove banned columns\n",
        "print('The following columns cannot be used in prediction: {}'.format(forbidden_columns))\n",
        "df = df.drop(*forbidden_columns)\n",
        "print('The new total number of column is {}'.format(len(df.columns)))\n",
        "\n",
        "# remove columns of string type\n",
        "print('Remove columns which have string type')\n",
        "str_type_cols = [t[0] for t in df.dtypes if t[1] == 'string']\n",
        "print('The following columns are going to be removed: {}'.format(str_type_cols))\n",
        "df = df.drop(*str_type_cols)\n",
        "print('The new total number of column is {}'.format(len(df.columns)))\n",
        "print()"
      ],
      "execution_count": 7,
      "outputs": [
        {
          "output_type": "stream",
          "text": [
            "The following columns cannot be used in prediction: ['PERNP', 'WIGP']\n",
            "The new total number of column is 282\n",
            "Remove columns which have string type\n",
            "The following columns are going to be removed: ['RT', 'NAICSP', 'SOCP']\n",
            "The new total number of column is 279\n",
            "\n"
          ],
          "name": "stdout"
        }
      ]
    },
    {
      "cell_type": "code",
      "metadata": {
        "id": "FYAdKIQyR6xw"
      },
      "source": [
        "import pyspark.sql.functions as F"
      ],
      "execution_count": 8,
      "outputs": []
    },
    {
      "cell_type": "code",
      "metadata": {
        "colab": {
          "base_uri": "https://localhost:8080/"
        },
        "id": "Eau0m5ypR6xz",
        "outputId": "27486485-b9bd-4119-b947-42de6feee14e"
      },
      "source": [
        "# cast all values to float\n",
        "print('Casting all values to float\\n')\n",
        "df = df.select(*(F.col(c).cast(\"float\").alias(c) for c in df.columns))"
      ],
      "execution_count": 9,
      "outputs": [
        {
          "output_type": "stream",
          "text": [
            "Casting all values to float\n",
            "\n"
          ],
          "name": "stdout"
        }
      ]
    },
    {
      "cell_type": "markdown",
      "metadata": {
        "id": "ldhiNewsR6x2"
      },
      "source": [
        "## manage missing values in target label"
      ]
    },
    {
      "cell_type": "code",
      "metadata": {
        "id": "2pJqUXkCR6x3"
      },
      "source": [
        "if missing_label_substitution == \"zero\":\n",
        "    df = df.fillna({target_label: 0})\n",
        "else:\n",
        "    df = df.filter(df[target_label].isNotNull())\n",
        "if verbose: \n",
        "    print(\"The new total number of rows is {}\".format(df.count()))"
      ],
      "execution_count": 10,
      "outputs": []
    },
    {
      "cell_type": "markdown",
      "metadata": {
        "id": "ztJ7sjy_cLQP"
      },
      "source": [
        "# Split dataframe into training and test set"
      ]
    },
    {
      "cell_type": "code",
      "metadata": {
        "id": "t6at2i3scQBV",
        "colab": {
          "base_uri": "https://localhost:8080/"
        },
        "outputId": "cfa82c00-c01a-4892-f85d-68db7af59989"
      },
      "source": [
        "df_train, df_test = df.randomSplit(split_weights,\n",
        "                                   seed=split_seed)\n",
        "\n",
        "print(\"Dimensions: training set = {}, test set = {}\"\n",
        "      .format(df_train.count(),\n",
        "              df_test.count()))"
      ],
      "execution_count": 11,
      "outputs": [
        {
          "output_type": "stream",
          "text": [
            "Dimensions: training set = 119439, test set = 13530\n"
          ],
          "name": "stdout"
        }
      ]
    },
    {
      "cell_type": "markdown",
      "metadata": {
        "id": "vMUeJHb5XT4v"
      },
      "source": [
        "## find out and trim the outliers"
      ]
    },
    {
      "cell_type": "code",
      "metadata": {
        "id": "OQ1SDC04XT4v"
      },
      "source": [
        "def compute_quantiles(dataframe, percentiles, approx):\n",
        "    return dataframe.approxQuantile(target_label,\n",
        "                                    percentiles,\n",
        "                                    approx)"
      ],
      "execution_count": 12,
      "outputs": []
    },
    {
      "cell_type": "code",
      "metadata": {
        "id": "YPfdLxnYXT4v",
        "colab": {
          "base_uri": "https://localhost:8080/"
        },
        "outputId": "fc428dd8-8347-46e4-c204-9477698bd0c3"
      },
      "source": [
        "if outlier_strategy == \"iqr\":\n",
        "    approx = 0.01\n",
        "\n",
        "    percentiles = [.25, .75]\n",
        "\n",
        "    quantiles = compute_quantiles(df_train,\n",
        "                                  percentiles,\n",
        "                                  approx)\n",
        "\n",
        "    min_label = df_train.select(F.min(target_label).alias(\"MIN\")) \\\n",
        "                        .limit(1) \\\n",
        "                        .collect()[0].MIN\n",
        "    max_label = df_train.select(F.max(target_label).alias(\"MAX\")) \\\n",
        "                        .limit(1) \\\n",
        "                        .collect()[0].MAX\n",
        "\n",
        "    iqr = quantiles[1] - quantiles[0]\n",
        "    lower_whisker = quantiles[0] - iqr * 1.5\n",
        "    upper_whisker = quantiles[1] + iqr * 1.5\n",
        "\n",
        "    lower_whisker = lower_whisker if lower_whisker > min_label else min_label\n",
        "    upper_whisker = upper_whisker if upper_whisker < max_label else max_label\n",
        "\n",
        "\n",
        "    print(\"quantiles: {}\\n whiskers: {},{}\"\n",
        "          .format(quantiles,\n",
        "                  lower_whisker,\n",
        "                  upper_whisker))\n",
        "\n",
        "    df_train = df_train.filter(df_train[target_label] > lower_whisker) \\\n",
        "                       .filter(df_train[target_label] < upper_whisker)\n",
        "\n",
        "    if verbose:\n",
        "        df_train.describe(target_label).show()\n",
        "\n",
        "else:\n",
        "    print(\"no outlier trimming performed\")"
      ],
      "execution_count": 13,
      "outputs": [
        {
          "output_type": "stream",
          "text": [
            "no outlier trimming performed\n"
          ],
          "name": "stdout"
        }
      ]
    },
    {
      "cell_type": "markdown",
      "metadata": {
        "id": "imaaiHnAR6x6"
      },
      "source": [
        "## substitute NaN values with the mean of corresponding column"
      ]
    },
    {
      "cell_type": "code",
      "metadata": {
        "id": "caG0FEbcR6x7"
      },
      "source": [
        "from pyspark.ml.feature import Imputer"
      ],
      "execution_count": 14,
      "outputs": []
    },
    {
      "cell_type": "code",
      "metadata": {
        "colab": {
          "base_uri": "https://localhost:8080/"
        },
        "id": "zmMzwRbiR6yA",
        "outputId": "ec9430ff-616d-4b45-e867-8c17e7e83599"
      },
      "source": [
        "%%time\n",
        "# create the imputer\n",
        "imputer = Imputer(strategy=nan_substitution_strategy,\n",
        "                  inputCols=df.columns,\n",
        "                  outputCols=df.columns)\n",
        "\n",
        "# transoform the entire dataframe according to the model\n",
        "imputer_model = imputer.fit(df_train)\n",
        "df_train = imputer_model.transform(df_train)"
      ],
      "execution_count": 15,
      "outputs": [
        {
          "output_type": "stream",
          "text": [
            "CPU times: user 101 ms, sys: 20.2 ms, total: 121 ms\n",
            "Wall time: 1min 22s\n"
          ],
          "name": "stdout"
        }
      ]
    },
    {
      "cell_type": "markdown",
      "metadata": {
        "id": "nOa8F2CHR6yD"
      },
      "source": [
        "# Tranform dataset\n",
        "\n",
        "First create a new column which is the union of all other columns except the target label.\n",
        "Then scale all features, removing mean and stddev.\n",
        "Finally, performe a PCA reduction over the scaled features."
      ]
    },
    {
      "cell_type": "code",
      "metadata": {
        "id": "xrfhzKhyR6yE"
      },
      "source": [
        "from pyspark.ml.feature import VectorAssembler, StandardScaler, PCA"
      ],
      "execution_count": 16,
      "outputs": []
    },
    {
      "cell_type": "code",
      "metadata": {
        "colab": {
          "base_uri": "https://localhost:8080/"
        },
        "id": "-X3flQxkR6yG",
        "outputId": "7d7b0708-2d17-438e-decf-b4f02ecc4abd"
      },
      "source": [
        "%%time\n",
        "\n",
        "fet_vec_output_col = \"features\"\n",
        "std_scaler_output_col = \"features_scaled\"\n",
        "final_output_col = \"pca_features\"\n",
        "\n",
        "features = df_train.columns\n",
        "features.remove(target_label)\n",
        "\n",
        "features_vec = VectorAssembler(inputCols=features,\n",
        "                               outputCol=fet_vec_output_col)\n",
        "\n",
        "df_train = features_vec.transform(df_train)\n",
        "\n",
        "standard_scaler = StandardScaler(inputCol=fet_vec_output_col,\n",
        "                                     outputCol=std_scaler_output_col)\n",
        "\n",
        "std_scaler_model = standard_scaler.fit(df_train)\n",
        "df_train = std_scaler_model.transform(df_train)\n",
        "\n",
        "\n",
        "pca = PCA(k=pca_new_space_dimension,\n",
        "          inputCol=std_scaler_output_col,\n",
        "          outputCol=final_output_col)\n",
        "\n",
        "pca_model = pca.fit(df_train)\n",
        "df_train = pca_model.transform(df_train)\n",
        "\n",
        "\n",
        "df_train = df_train.select([target_label, final_output_col])\n",
        "\n",
        "if verbose:\n",
        "    print(\"Dataframe of target/features values has the following shape: {} rows, {} cols\"\n",
        "         .format(df_train.count(), len(df_train.columns)))\n",
        "\n",
        "df_train.show()"
      ],
      "execution_count": 17,
      "outputs": [
        {
          "output_type": "stream",
          "text": [
            "+-------+--------------------+\n",
            "|  PINCP|        pca_features|\n",
            "+-------+--------------------+\n",
            "|40000.0|[-14.076030334049...|\n",
            "|10300.0|[-8.7765028279461...|\n",
            "|32100.0|[-19.934438512179...|\n",
            "| 5800.0|[-17.798616706239...|\n",
            "|25000.0|[-10.182498559338...|\n",
            "|20000.0|[-8.5391589492909...|\n",
            "|65000.0|[-12.846421406873...|\n",
            "|52000.0|[-11.238998502376...|\n",
            "|35000.0|[-13.161889730815...|\n",
            "|73000.0|[-11.057026909934...|\n",
            "|11000.0|[-9.9040030518388...|\n",
            "|    0.0|[-20.376572894840...|\n",
            "|27000.0|[-20.435485716503...|\n",
            "|14400.0|[-9.7584609821443...|\n",
            "|12600.0|[-16.431127597415...|\n",
            "|75000.0|[-18.070166260184...|\n",
            "|23000.0|[-14.135962118402...|\n",
            "|53000.0|[-12.031699846173...|\n",
            "|45400.0|[-16.206632940454...|\n",
            "|27000.0|[-26.047595904914...|\n",
            "+-------+--------------------+\n",
            "only showing top 20 rows\n",
            "\n",
            "CPU times: user 78.3 ms, sys: 18 ms, total: 96.2 ms\n",
            "Wall time: 3min 13s\n"
          ],
          "name": "stdout"
        }
      ]
    },
    {
      "cell_type": "code",
      "metadata": {
        "id": "oJ8tO3l7XT4z",
        "colab": {
          "base_uri": "https://localhost:8080/"
        },
        "outputId": "a7868b31-c6c7-47f7-9775-244860e6e19e"
      },
      "source": [
        "print(\"PCA retained variance: {}\"\n",
        "     .format(sum(pca_model.explainedVariance)))"
      ],
      "execution_count": 18,
      "outputs": [
        {
          "output_type": "stream",
          "text": [
            "PCA retained variance: 0.4256473731635593\n"
          ],
          "name": "stdout"
        }
      ]
    },
    {
      "cell_type": "markdown",
      "metadata": {
        "id": "e-gWFmZGdXDy"
      },
      "source": [
        "# Apply changes to test dataframe\n"
      ]
    },
    {
      "cell_type": "code",
      "metadata": {
        "id": "W9581sM_dh36",
        "colab": {
          "base_uri": "https://localhost:8080/"
        },
        "outputId": "d1471b1e-52af-4f83-f807-7972869c2d43"
      },
      "source": [
        "df_test = imputer_model.transform(df_test)\n",
        "\n",
        "df_test = features_vec.transform(df_test)\n",
        "df_test = std_scaler_model.transform(df_test)\n",
        "\n",
        "df_test = pca_model.transform(df_test)\n",
        "\n",
        "df_test = df_test.select([target_label, final_output_col])\n",
        "\n",
        "df_test.show()"
      ],
      "execution_count": 19,
      "outputs": [
        {
          "output_type": "stream",
          "text": [
            "+-------+--------------------+\n",
            "|  PINCP|        pca_features|\n",
            "+-------+--------------------+\n",
            "|70000.0|[-10.806710139012...|\n",
            "|21000.0|[-13.847285581678...|\n",
            "|18980.0|[-8.9840899123966...|\n",
            "|40000.0|[-16.526499283089...|\n",
            "|89030.0|[-16.456422608203...|\n",
            "|79000.0|[-12.961607353187...|\n",
            "|46200.0|[-14.179455749497...|\n",
            "| 6000.0|[-22.701528758852...|\n",
            "|68400.0|[-12.512844375223...|\n",
            "|60000.0|[-15.945361077706...|\n",
            "| 1040.0|[-11.894937855953...|\n",
            "|20000.0|[-18.762704342964...|\n",
            "| 7300.0|[-15.870320372926...|\n",
            "|27600.0|[-27.152284354604...|\n",
            "|    0.0|[-64.740777582202...|\n",
            "|    0.0|[-13.306288844964...|\n",
            "|    0.0|[-15.954718178044...|\n",
            "| 8000.0|[-24.245696278069...|\n",
            "|80000.0|[-11.424014649605...|\n",
            "|14400.0|[-14.474977593794...|\n",
            "+-------+--------------------+\n",
            "only showing top 20 rows\n",
            "\n"
          ],
          "name": "stdout"
        }
      ]
    },
    {
      "cell_type": "markdown",
      "metadata": {
        "id": "1UYPRW26R6yJ"
      },
      "source": [
        "# Create RDD from DataFrame"
      ]
    },
    {
      "cell_type": "code",
      "metadata": {
        "colab": {
          "base_uri": "https://localhost:8080/"
        },
        "id": "BWOF4CaeR6yK",
        "outputId": "b82ef6a0-6a5f-46a5-c6e2-84a8d46a18a9"
      },
      "source": [
        "training_set = df_train.rdd\n",
        "test_set = df_test.rdd\n",
        "\n",
        "print(training_set.take(3))\n",
        "print(test_set.take(3))"
      ],
      "execution_count": 20,
      "outputs": [
        {
          "output_type": "stream",
          "text": [
            "[Row(PINCP=40000.0, pca_features=DenseVector([-14.076, 0.3752, 78.3777, -34.9447, -46.6208, 18.724, -1.4728, -24.4823, -15.6499, 155.0207])), Row(PINCP=10300.0, pca_features=DenseVector([-8.7765, 0.6403, 71.0698, -38.8452, -48.3646, 15.9997, -1.7763, -22.1098, -15.3257, 155.9745])), Row(PINCP=32100.0, pca_features=DenseVector([-19.9344, 1.5305, 73.6912, -35.0338, -46.4913, 18.6118, 1.0388, -25.6311, -12.5217, 155.416]))]\n",
            "[Row(PINCP=70000.0, pca_features=DenseVector([-10.8067, 1.3712, 78.9317, -34.8086, -46.8521, 17.7422, -0.424, -24.285, -15.7259, 154.4598])), Row(PINCP=21000.0, pca_features=DenseVector([-13.8473, 0.3362, 71.9388, -37.8295, -48.2731, 17.328, 1.1888, -24.9891, -14.0493, 156.2343])), Row(PINCP=18980.0, pca_features=DenseVector([-8.9841, 2.0854, 76.0364, -40.1472, -49.5669, 15.7291, 1.1611, -21.8209, -13.6226, 157.1515]))]\n"
          ],
          "name": "stdout"
        }
      ]
    },
    {
      "cell_type": "code",
      "metadata": {
        "id": "vbqVyHnHR6yM"
      },
      "source": [
        "from pyspark.mllib.feature import LabeledPoint"
      ],
      "execution_count": 21,
      "outputs": []
    },
    {
      "cell_type": "code",
      "metadata": {
        "id": "OP_sKcBYR6yP"
      },
      "source": [
        "def to_labeledPoint(row, label_col, features_col):\n",
        "    label = row[label_col]\n",
        "    # DenseVector can't be used to create a LabeledPoint\n",
        "    features = row[features_col].values\n",
        "    return LabeledPoint(label, features)"
      ],
      "execution_count": 22,
      "outputs": []
    },
    {
      "cell_type": "code",
      "metadata": {
        "colab": {
          "base_uri": "https://localhost:8080/"
        },
        "id": "wUWB-0yzR6yS",
        "outputId": "896589b2-e5b9-472a-9ca6-2c0af2afeedc"
      },
      "source": [
        "training_set = training_set.map(lambda row: to_labeledPoint(row,\n",
        "                                                            target_label,\n",
        "                                                            final_output_col))\n",
        "\n",
        "test_set = test_set.map(lambda row: to_labeledPoint(row,\n",
        "                                                    target_label,\n",
        "                                                    final_output_col))\n",
        "if caching: test_set.cache()\n",
        "\n",
        "training_set = training_set.repartition(12)\n",
        "test_set = test_set.repartition(12)\n",
        "\n",
        "print(training_set.take(3))\n",
        "print(test_set.take(3))"
      ],
      "execution_count": 23,
      "outputs": [
        {
          "output_type": "stream",
          "text": [
            "[LabeledPoint(18030.0, [-16.75527995183764,0.4311057124227683,72.31312070990249,-37.33779747670341,-48.174911840880846,17.766638223325618,0.2016596724996449,-24.300921539363056,-14.771846581117833,155.34603236624702]), LabeledPoint(33000.0, [-8.922626786583571,4.555364694792091,78.48307146417535,-35.585004642814646,-47.72553158125825,16.264040325489844,-2.480689709254465,-24.289823162632395,-15.32981045297642,152.2183031267988]), LabeledPoint(910.0, [-16.424472744033466,9.839017920594179,75.8924201825518,-38.19904578728358,-51.93611797490557,14.138111350092194,-0.7228908097206918,-27.0019964901969,-12.528309832441222,157.55439696303145])]\n",
            "[LabeledPoint(60000.0, [-12.495980279903184,0.28220049222683335,77.92860723870038,-34.838314645219754,-47.52224910619122,19.117637612909515,-1.1626543503828828,-24.477615581774817,-16.374679895573404,154.27109565031043]), LabeledPoint(0.0, [-16.71535599534817,0.3019438526338772,74.63645585052456,-37.57264182690288,-50.20214379494807,17.971819461407414,-0.3277216375374139,-26.301335595835987,-15.809490008471489,156.25190770409267]), LabeledPoint(30700.0, [-15.863592548507807,0.5130882568682805,78.63370363761588,-36.356790974757466,-49.133825450339465,19.143564690880154,-1.3414046058554978,-23.016095473623334,-16.626310522339327,155.5799105696924])]\n"
          ],
          "name": "stdout"
        }
      ]
    },
    {
      "cell_type": "markdown",
      "metadata": {
        "id": "MSrGRDK4R6yX"
      },
      "source": [
        "# Function estimator"
      ]
    },
    {
      "cell_type": "code",
      "metadata": {
        "id": "FNkMPN9NR6yY"
      },
      "source": [
        "def squared_err(expected, prediction):\n",
        "    '''Compute the squared error, i.e. the squared difference between the inputs'''    \n",
        "    return (expected - prediction) ** 2"
      ],
      "execution_count": 24,
      "outputs": []
    },
    {
      "cell_type": "code",
      "metadata": {
        "id": "8XCMAWxdR6ya"
      },
      "source": [
        "def mean_squared_error(rdd):\n",
        "    '''Compute the mean squared error of the given RDD.\n",
        "    \n",
        "    The RDD must be of the form RDD[(float, float)]\n",
        "    '''\n",
        "    return rdd.map(lambda p: squared_err(*p)).mean()"
      ],
      "execution_count": 25,
      "outputs": []
    },
    {
      "cell_type": "code",
      "metadata": {
        "id": "s_DvF-TYR6yd"
      },
      "source": [
        "def root_mean_squared_error(rdd):\n",
        "    '''Computes the root mean squared error of the given RDD.\n",
        "    \n",
        "    The RDD in input must be of the form RDD[(float, float)]'''\n",
        "    return np.sqrt(mean_squared_error(rdd))"
      ],
      "execution_count": 26,
      "outputs": []
    },
    {
      "cell_type": "code",
      "metadata": {
        "id": "CD6BGLFtR6yf"
      },
      "source": [
        "def r2(rdd):\n",
        "    '''Computes the R2 coefficient of determination\n",
        "    \n",
        "    The RDD in input must be of the form RDD[(float, float)], where the first float\n",
        "    is the actual value, and the second float is the predicted value.\n",
        "    '''\n",
        "    mean_ = rdd.map(lambda t: t[0]).mean()\n",
        "    sum_squares = rdd.map(lambda t: (t[0] - mean_)**2).sum()\n",
        "    residual_sum_squares = rdd.map(lambda t: squared_err(*t)).sum()\n",
        "    return 1 - (residual_sum_squares / sum_squares)"
      ],
      "execution_count": 27,
      "outputs": []
    },
    {
      "cell_type": "markdown",
      "metadata": {
        "id": "QP2Cn2juKZ4p"
      },
      "source": [
        "# Baseline algorithm\n"
      ]
    },
    {
      "cell_type": "code",
      "metadata": {
        "colab": {
          "base_uri": "https://localhost:8080/"
        },
        "id": "kcxqxm0pKfh3",
        "outputId": "c6c10dc9-4a70-4e1c-91af-f2e54d46f9f3"
      },
      "source": [
        "# get label main\n",
        "label_mean = training_set.map(lambda lp: lp.label).mean()\n",
        "\n",
        "# create and RDD of (label, prediction)\n",
        "baseline_train_prediction_rdd = training_set.map(lambda lp: (lp.label, label_mean))\n",
        "\n",
        "# predict test set\n",
        "baseline_test_prediction_rdd = test_set.map(lambda lp: (lp.label, label_mean))\n",
        "\n",
        "## compute stats\n",
        "# mse\n",
        "baseline_train_mse = mean_squared_error(baseline_train_prediction_rdd)\n",
        "baseline_test_mse = mean_squared_error(baseline_test_prediction_rdd)\n",
        "\n",
        "# rmse\n",
        "baseline_train_rmse = root_mean_squared_error(baseline_train_prediction_rdd)\n",
        "baseline_test_rmse = root_mean_squared_error(baseline_test_prediction_rdd)\n",
        "\n",
        "print('BASELINE VALUES\\n'\n",
        "      '\\tMSE:\\n\\ttrain: {:.5e}\\n\\ttest: {:.5e}'.format(baseline_train_mse, baseline_test_mse))\n",
        "print('\\tRMSE:\\n\\ttrain: {:.5e}\\n\\ttest: {:.5e}'.format(baseline_train_rmse, baseline_test_rmse))"
      ],
      "execution_count": 28,
      "outputs": [
        {
          "output_type": "stream",
          "text": [
            "BASELINE VALUES\n",
            "\tMSE:\n",
            "\ttrain: 2.99490e+09\n",
            "\ttest: 3.32687e+09\n",
            "\tRMSE:\n",
            "\ttrain: 5.47257e+04\n",
            "\ttest: 5.76791e+04\n"
          ],
          "name": "stdout"
        }
      ]
    },
    {
      "cell_type": "markdown",
      "metadata": {
        "id": "vANtFzZbR6yi"
      },
      "source": [
        "# Ridge regression"
      ]
    },
    {
      "cell_type": "code",
      "metadata": {
        "id": "6OXUBCT1R6yk"
      },
      "source": [
        "def outer_product(lp):\n",
        "    '''Computes the outer product of the features of the LabeledPoint with themselves.\n",
        "    \n",
        "    This method is meant to be used inside a map function of an RDD[LabeledPoint]\n",
        "    \n",
        "    The outer product of the input is defined as:\n",
        "        lp.features x lp.features'\n",
        "    returning an m x m matrix, with m dimension of the vector lp.features\n",
        "    '''\n",
        "    return np.array([np.dot(i,lp.features) for i in lp.features])"
      ],
      "execution_count": 29,
      "outputs": []
    },
    {
      "cell_type": "code",
      "metadata": {
        "id": "EGGLPX5aR6yn"
      },
      "source": [
        "def outer_sum(m1, m2):\n",
        "    '''Sums two matrixes'''\n",
        "    return m1+m2"
      ],
      "execution_count": 30,
      "outputs": []
    },
    {
      "cell_type": "code",
      "metadata": {
        "id": "t88TiV0nR6yq"
      },
      "source": [
        "def stripes_product(rdd):\n",
        "    '''Multiplies the design matrix with the feature vector of corresponding label\n",
        "    \n",
        "    The input must be and RDD[LabeledPoint]\n",
        "    \n",
        "    Computes a matrix-vector product, multipling each feature vector with the corresponding scalar label.\n",
        "    It is not necessary to transponse the matrix.\n",
        "    '''\n",
        "    return rdd.map(lambda lp: lp.label*lp.features).reduce(lambda v1, v2: v1+v2)"
      ],
      "execution_count": 31,
      "outputs": []
    },
    {
      "cell_type": "code",
      "metadata": {
        "id": "Wbwr0G5LR6yt"
      },
      "source": [
        "def ridge_regression(rdd, alpha=1):\n",
        "    '''Creates the ERM weights according to Ridge Regression model\n",
        "    \n",
        "    The RDD in input must be of the form RDD[LabeledPoint]\n",
        "    '''\n",
        "    A = rdd.map(outer_product).reduce(outer_sum)\n",
        "    np.fill_diagonal(A, A.diagonal()+alpha)\n",
        "    V = stripes_product(rdd)\n",
        "    return np.linalg.inv(A).dot(V)"
      ],
      "execution_count": 32,
      "outputs": []
    },
    {
      "cell_type": "code",
      "metadata": {
        "id": "HTdruNw1R6yv"
      },
      "source": [
        "def predict(weights, features):\n",
        "    '''Predicts the output according to the given weights and features'''\n",
        "    return np.dot(weights, features)"
      ],
      "execution_count": 33,
      "outputs": []
    },
    {
      "cell_type": "code",
      "metadata": {
        "id": "eudJRmxsZhW9"
      },
      "source": [
        "def cross_validation(rdd, k, alpha_set, m=None, seed=None, verbose=False):\n",
        "    '''Computes the cross validation over the given RDD\n",
        "    \n",
        "    The RDD in input must be of the form RDD[LabeledPoint]\n",
        "    \n",
        "    The returned value is a dictonary, where the keys are the given alpha inside\n",
        "    alpha_set, and the values are a list of tuple, where each tuple is of the form:\n",
        "            (fold error, fold r2 score)\n",
        "    '''\n",
        "    # split the rdd into k folds\n",
        "    split_weights = np.repeat(1/k, k)\n",
        "    folds = rdd.randomSplit(split_weights, seed=seed)\n",
        "    \n",
        "    if m is None:\n",
        "        m = rdd.count()\n",
        "        if verbose: print(\"count computed\")\n",
        "\n",
        "    scaling_factor = k / m\n",
        "    risks = {a: [] \n",
        "             for a \n",
        "             in alpha_set}\n",
        "    \n",
        "    for i in range(k):\n",
        "        Di = folds[i] # validation fold\n",
        "        if caching: Di.cache()\n",
        "        Si = folds[:i] + folds[i+1:] # all folds except Di\n",
        "        training_part = sc.union(Si) # creates testing RDD\n",
        "        training_part = training_part.repartition(12)\n",
        "        \n",
        "        for alpha in alpha_set:\n",
        "            _w = ridge_regression(training_part, alpha)\n",
        "            predicted_rdd_ = Di.map(lambda lp: (lp.label, predict(_w, lp.features)))\n",
        "            fold_r2 = r2(predicted_rdd_)\n",
        "            fold_error = scaling_factor * predicted_rdd_.map(lambda t: squared_err(*t)) \\\n",
        "                                                        .sum()\n",
        "            risks[alpha].append((fold_error, fold_r2))\n",
        "            if verbose: print('.', end='')\n",
        "        if caching: Di.unpersist()\n",
        "        print(\" fold {} computed\".format(i+1))\n",
        "\n",
        "    return risks\n"
      ],
      "execution_count": 34,
      "outputs": []
    },
    {
      "cell_type": "code",
      "metadata": {
        "colab": {
          "base_uri": "https://localhost:8080/"
        },
        "id": "hXyOr4Zxdu8q",
        "outputId": "d61ac55e-c455-4cca-cd62-ed3539374fc8"
      },
      "source": [
        "%%time\n",
        "\n",
        "# call once for all CV\n",
        "m = training_set.count()\n",
        "\n",
        "risks = cross_validation(training_set,\n",
        "                         cross_validation_folds, \n",
        "                         cross_validation_alphas, \n",
        "                         m=m, \n",
        "                         seed=cross_validation_internal_split_seed, \n",
        "                         verbose=True)"
      ],
      "execution_count": 35,
      "outputs": [
        {
          "output_type": "stream",
          "text": [
            "............... fold 1 computed\n",
            "............... fold 2 computed\n",
            "............... fold 3 computed\n",
            "............... fold 4 computed\n",
            "............... fold 5 computed\n",
            "CPU times: user 4.82 s, sys: 4.68 s, total: 9.51 s\n",
            "Wall time: 15min 9s\n"
          ],
          "name": "stdout"
        }
      ]
    },
    {
      "cell_type": "code",
      "metadata": {
        "id": "YeEAoqwyZEHh",
        "colab": {
          "base_uri": "https://localhost:8080/"
        },
        "outputId": "74dbf756-4687-4798-dc99-245e8834e0aa"
      },
      "source": [
        "cv_risks = {\n",
        "    alpha: [t[0] for t in risk]\n",
        "    for alpha, risk \n",
        "    in risks.items()\n",
        "}\n",
        "\n",
        "scores = {\n",
        "    alpha: [t[1] for t in risk]\n",
        "    for alpha, risk \n",
        "    in risks.items()\n",
        "}\n",
        "\n",
        "# computes CV risks\n",
        "for k, v in cv_risks.items():\n",
        "    cv_risks[k] = sum(v) / len(v)\n",
        "\n",
        "min_alpha, min_risk = min(cv_risks.items(), key=lambda t: t[1])\n",
        "\n",
        "print(\"The minimum risk is {:.5E}, given by alpha={:.6}\"\n",
        "      .format(min_risk, min_alpha))"
      ],
      "execution_count": 36,
      "outputs": [
        {
          "output_type": "stream",
          "text": [
            "The minimum risk is 2.13850E+09, given by alpha=148.398\n"
          ],
          "name": "stdout"
        }
      ]
    },
    {
      "cell_type": "code",
      "metadata": {
        "id": "3ytsCb6XjDlq"
      },
      "source": [
        "import seaborn as sbn\n",
        "import matplotlib.pyplot as plt"
      ],
      "execution_count": 37,
      "outputs": []
    },
    {
      "cell_type": "markdown",
      "metadata": {
        "id": "lSXi4y_keqkg"
      },
      "source": [
        "Plot the expected risk against alpha value"
      ]
    },
    {
      "cell_type": "code",
      "metadata": {
        "id": "iPKinGPRjGv-",
        "colab": {
          "base_uri": "https://localhost:8080/",
          "height": 290
        },
        "outputId": "340d9881-8951-4e7f-cb02-dbee9c6cac9d"
      },
      "source": [
        "alpha_values = list(cv_risks.keys())\n",
        "expected_risks = list(cv_risks.values())\n",
        "\n",
        "_ = sbn.lineplot(x=alpha_values,\n",
        "                 y=expected_risks)\n",
        "ax = sbn.scatterplot(x=alpha_values,\n",
        "                     y=expected_risks)\n",
        "ax.set_xlabel(\"alpha\")\n",
        "_ = ax.set_ylabel(\"risk\")"
      ],
      "execution_count": 38,
      "outputs": [
        {
          "output_type": "display_data",
          "data": {
            "image/png": "[encoded data removed]",
            "text/plain": [
              "<Figure size 432x288 with 1 Axes>"
            ]
          },
          "metadata": {
            "tags": [],
            "needs_background": "light"
          }
        }
      ]
    },
    {
      "cell_type": "markdown",
      "metadata": {
        "id": "kATGS1xde6V5"
      },
      "source": [
        "Plot the R2 score against the alpha value"
      ]
    },
    {
      "cell_type": "code",
      "metadata": {
        "id": "eoEqeGj9ZEHt",
        "colab": {
          "base_uri": "https://localhost:8080/",
          "height": 290
        },
        "outputId": "ff25ac1f-b36d-4c26-824e-ed3e2ba35f72"
      },
      "source": [
        "mean_scores = [np.mean(i)\n",
        "               for i\n",
        "               in scores.values()]\n",
        "\n",
        "_ = sbn.lineplot(x=list(scores.keys()),\n",
        "             y=mean_scores)\n",
        "ax = sbn.scatterplot(x=list(scores.keys()),\n",
        "             y=mean_scores)\n",
        "ax.set_xlabel(\"alpha\")\n",
        "_ = ax.set_ylabel(\"R2 score\")"
      ],
      "execution_count": 39,
      "outputs": [
        {
          "output_type": "display_data",
          "data": {
            "image/png": "[encoded data removed]",
            "text/plain": [
              "<Figure size 432x288 with 1 Axes>"
            ]
          },
          "metadata": {
            "tags": [],
            "needs_background": "light"
          }
        }
      ]
    },
    {
      "cell_type": "code",
      "metadata": {
        "id": "4VI8YQ5AZEHz",
        "colab": {
          "base_uri": "https://localhost:8080/"
        },
        "outputId": "c89fafc6-1330-4ed2-fc6a-9782880656bc"
      },
      "source": [
        "weights = ridge_regression(training_set, alpha=min_alpha)\n",
        "#print(weights)\n",
        "#print(\"weights computed\")\n",
        "\n",
        "# prediction the same training set\n",
        "ridge_train_prediction_rdd = training_set.map(lambda lp:\n",
        "                                              (lp.label, predict(weights,\n",
        "                                                                 lp.features)))\n",
        "\n",
        "# prediction onto test set\n",
        "ridge_test_prediction_rdd = test_set.map(lambda lp:\n",
        "                                         (lp.label, predict(weights,\n",
        "                                                            lp.features)))\n",
        "\n",
        "# compute stats\n",
        "# mse\n",
        "ridge_train_mse = mean_squared_error(ridge_train_prediction_rdd)\n",
        "ridge_test_mse = mean_squared_error(ridge_test_prediction_rdd)\n",
        "\n",
        "# rmse\n",
        "ridge_train_rmse = root_mean_squared_error(ridge_train_prediction_rdd)\n",
        "ridge_test_rmse = root_mean_squared_error(ridge_test_prediction_rdd)\n",
        "\n",
        "# r2\n",
        "ridge_train_r2 = r2(ridge_train_prediction_rdd)\n",
        "ridge_test_r2 = r2(ridge_test_prediction_rdd)\n",
        "\n",
        "print('RIDGE REGRESSION\\n'\n",
        "      'Train\\n'\n",
        "      '\\tMSE: {:.5e}\\n'\n",
        "      '\\tRMSE: {:.5e}\\n'\n",
        "      '\\tR2: {:.3}'\n",
        "      .format(ridge_train_mse,\n",
        "              ridge_train_rmse,\n",
        "              ridge_train_r2))\n",
        "\n",
        "print('Test\\n'\n",
        "      '\\tMSE: {:.5e}\\n'\n",
        "      '\\tRMSE: {:.5e}\\n'\n",
        "      '\\tR2: {:.3}'\n",
        "      .format(ridge_test_mse,\n",
        "              ridge_test_rmse,\n",
        "              ridge_test_r2))"
      ],
      "execution_count": 40,
      "outputs": [
        {
          "output_type": "stream",
          "text": [
            "RIDGE REGRESSION\n",
            "Train\n",
            "\tMSE: 2.13819e+09\n",
            "\tRMSE: 4.62406e+04\n",
            "\tR2: 0.286\n",
            "Test\n",
            "\tMSE: 2.38882e+09\n",
            "\tRMSE: 4.88756e+04\n",
            "\tR2: 0.282\n"
          ],
          "name": "stdout"
        }
      ]
    },
    {
      "cell_type": "markdown",
      "metadata": {
        "id": "CkVoPwfNe-vq"
      },
      "source": [
        "Plot the prediction of ridge regression model against the true value of the label.\n",
        "\n",
        "The smaller and the lighter the point, the better the prediction is."
      ]
    },
    {
      "cell_type": "code",
      "metadata": {
        "id": "DcIyEHY4ZEH3",
        "colab": {
          "base_uri": "https://localhost:8080/",
          "height": 290
        },
        "outputId": "6b40c789-7606-44c4-e66e-c26fe1f5ad7d"
      },
      "source": [
        "%matplotlib inline\n",
        "\n",
        "predictions = np.asarray(\n",
        "    ridge_test_prediction_rdd \\\n",
        "        .map(lambda t: t[1]) \\\n",
        "        .collect())\n",
        "\n",
        "actual = np.asarray(\n",
        "    ridge_test_prediction_rdd \\\n",
        "        .map(lambda t: t[0]) \\\n",
        "        .collect())\n",
        "\n",
        "error = np.asarray(\n",
        "    ridge_test_prediction_rdd \\\n",
        "        .map(lambda t: squared_err(*t)) \\\n",
        "        .collect())\n",
        "\n",
        "    \n",
        "ax = sbn.scatterplot(x=predictions,\n",
        "                     y=actual,\n",
        "                     hue=error,\n",
        "                     size=error,\n",
        "                     sizes=(10, 250))\n",
        "\n",
        "ax.set_ylabel(\"true values\")\n",
        "_ = ax.set_xlabel(\"predictions\")\n",
        "ax.legend().remove()"
      ],
      "execution_count": 41,
      "outputs": [
        {
          "output_type": "display_data",
          "data": {
            "image/png": "[encoded data removed]",
            "text/plain": [
              "<Figure size 432x288 with 1 Axes>"
            ]
          },
          "metadata": {
            "tags": [],
            "needs_background": "light"
          }
        }
      ]
    },
    {
      "cell_type": "code",
      "metadata": {
        "id": "dixcLZY3XT49"
      },
      "source": [
        ""
      ],
      "execution_count": 41,
      "outputs": []
    }
  ]
}