{
  "nbformat": 4,
  "nbformat_minor": 0,
  "metadata": {
    "colab": {
      "name": "3-dataframe_project.ipynb",
      "provenance": [],
      "collapsed_sections": [],
      "include_colab_link": true
    },
    "kernelspec": {
      "display_name": "Python 3",
      "language": "python",
      "name": "python3"
    },
    "language_info": {
      "codemirror_mode": {
        "name": "ipython",
        "version": 3
      },
      "file_extension": ".py",
      "mimetype": "text/x-python",
      "name": "python",
      "nbconvert_exporter": "python",
      "pygments_lexer": "ipython3",
      "version": "3.6.10"
    }
  },
  "cells": [
    {
      "cell_type": "markdown",
      "metadata": {
        "id": "view-in-github",
        "colab_type": "text"
      },
      "source": [
        "<a href=\"https://colab.research.google.com/github/Stefano-t/AMD-SM2L-2019-20-project/blob/master/dataframe_project.ipynb\" target=\"_parent\"><img src=\"https://colab.research.google.com/assets/colab-badge.svg\" alt=\"Open In Colab\"/></a>"
      ]
    },
    {
      "cell_type": "markdown",
      "metadata": {
        "id": "WPqEOENsXxDN"
      },
      "source": [
        "# Install Kaggle and download the dataset"
      ]
    },
    {
      "cell_type": "code",
      "metadata": {
        "id": "k6ls_Hc-R8P6",
        "colab": {
          "base_uri": "https://localhost:8080/"
        },
        "outputId": "60ce1bbc-6948-42f0-bac5-4699df008912"
      },
      "source": [
        "!pip install --upgrade --force-reinstall --no-deps kaggle\n",
        "\n",
        "!mkdir ~/.kaggle\n",
        "!echo '{\"username\":\"stefanotaverni\",\"key\":\"c22f4c36169267251f92367e36c7d6fc\"}' > ~/.kaggle/kaggle.json\n",
        "!chmod 600 ~/.kaggle/kaggle.json\n",
        "!kaggle datasets download -d census/2013-american-community-survey\n",
        "!mkdir /content/data\n",
        "print(\"unzip folder...\")\n",
        "!unzip /content/2013-american-community-survey.zip -d /content/data > /dev/null\n",
        "print(\"download completed\")"
      ],
      "execution_count": 1,
      "outputs": [
        {
          "output_type": "stream",
          "text": [
            "Collecting kaggle\n",
            "\u001b[?25l  Downloading https://files.pythonhosted.org/packages/99/33/365c0d13f07a2a54744d027fe20b60dacdfdfb33bc04746db6ad0b79340b/kaggle-1.5.10.tar.gz (59kB)\n",
            "\r\u001b[K     |█████▌                          | 10kB 15.4MB/s eta 0:00:01\r\u001b[K     |███████████                     | 20kB 9.6MB/s eta 0:00:01\r\u001b[K     |████████████████▋               | 30kB 8.2MB/s eta 0:00:01\r\u001b[K     |██████████████████████▏         | 40kB 6.8MB/s eta 0:00:01\r\u001b[K     |███████████████████████████▊    | 51kB 4.4MB/s eta 0:00:01\r\u001b[K     |████████████████████████████████| 61kB 2.9MB/s \n",
            "\u001b[?25hBuilding wheels for collected packages: kaggle\n",
            "  Building wheel for kaggle (setup.py) ... \u001b[?25l\u001b[?25hdone\n",
            "  Created wheel for kaggle: filename=kaggle-1.5.10-cp36-none-any.whl size=73269 sha256=2193f4c46cce228450bc0b7b4ea715022f897f30e5ddda2f3e7b48b1926720cc\n",
            "  Stored in directory: /root/.cache/pip/wheels/3a/d1/7e/6ce09b72b770149802c653a02783821629146983ee5a360f10\n",
            "Successfully built kaggle\n",
            "Installing collected packages: kaggle\n",
            "  Found existing installation: kaggle 1.5.10\n",
            "    Uninstalling kaggle-1.5.10:\n",
            "      Successfully uninstalled kaggle-1.5.10\n",
            "Successfully installed kaggle-1.5.10\n",
            "Downloading 2013-american-community-survey.zip to /content\n",
            "100% 916M/916M [00:07<00:00, 100MB/s] \n",
            "100% 916M/916M [00:07<00:00, 122MB/s]\n",
            "unzip folder...\n",
            "download completed\n"
          ],
          "name": "stdout"
        }
      ]
    },
    {
      "cell_type": "markdown",
      "metadata": {
        "id": "zq3vtPmJX-kj"
      },
      "source": [
        "# Download Spark and setup the environment"
      ]
    },
    {
      "cell_type": "code",
      "metadata": {
        "id": "w80wHaf0ShdY",
        "colab": {
          "base_uri": "https://localhost:8080/"
        },
        "outputId": "68aec831-1037-4060-c78a-8cb6cde0ff17"
      },
      "source": [
        "!rm spark-3.0.1-bin-hadoop2.7.tgz*\n",
        "print(\"update system and install jdk 8\")\n",
        "!apt-get update > /dev/null\n",
        "!apt-get install openjdk-8-jdk-headless -qq > /dev/null\n",
        "print(\"download and extract Spark...\")\n",
        "!wget -q https://downloads.apache.org/spark/spark-3.0.1/spark-3.0.1-bin-hadoop2.7.tgz\n",
        "!tar xf spark-3.0.1-bin-hadoop2.7.tgz > /dev/null\n",
        "!pip install -q findspark\n",
        "\n",
        "print(\"setup Spark...\")\n",
        "import os\n",
        "os.environ[\"JAVA_HOME\"] = \"/usr/lib/jvm/java-8-openjdk-amd64\"\n",
        "os.environ[\"SPARK_HOME\"] = \"/content/spark-3.0.1-bin-hadoop2.7\"\n",
        "import findspark\n",
        "findspark.init(\"spark-3.0.1-bin-hadoop2.7\")# SPARK_HOME\n",
        "from pyspark.sql import SparkSession\n",
        "\n",
        "spark_driver_memory = \"8g\"\n",
        "spark_executor_memory = \"1g\"\n",
        "\n",
        "spark = SparkSession.builder \\\n",
        "                    .config(\"spark.driver.memory\", spark_driver_memory) \\\n",
        "                    .config(\"spark.execuror.memory\", spark_executor_memory) \\\n",
        "                    .master(\"local[*]\") \\\n",
        "                    .getOrCreate()\n",
        "print(\"Spark session created\")\n",
        "import pyspark\n",
        "sc = spark.sparkContext\n",
        "print(\"Spark context created\")"
      ],
      "execution_count": 2,
      "outputs": [
        {
          "output_type": "stream",
          "text": [
            "rm: cannot remove 'spark-3.0.1-bin-hadoop2.7.tgz*': No such file or directory\n",
            "update system and install jdk 8\n",
            "download and extract Spark...\n",
            "setup Spark...\n",
            "Spark session created\n",
            "Spark context created\n"
          ],
          "name": "stdout"
        }
      ]
    },
    {
      "cell_type": "markdown",
      "metadata": {
        "id": "lcHF5H32XT4i"
      },
      "source": [
        "# VARIABLES\n",
        "Definition of the main variables to work with."
      ]
    },
    {
      "cell_type": "code",
      "metadata": {
        "id": "ZbyFmDhWXT4k"
      },
      "source": [
        "import numpy as np"
      ],
      "execution_count": 3,
      "outputs": []
    },
    {
      "cell_type": "code",
      "metadata": {
        "id": "WWNWM6cUXT4l",
        "colab": {
          "base_uri": "https://localhost:8080/"
        },
        "outputId": "9fef8035-b4fe-4033-b875-548870c9080f"
      },
      "source": [
        "dataset_to_load = \"ss13pusa.csv\"\n",
        "dataset_sample_fraction = 0.1\n",
        "dataset_sample_seed = 1965\n",
        "\"\"\"Determine how to divide the loaded dataset.\n",
        "\n",
        "The fraction must be a value > 0 and <= 1, and the seed determines the random\n",
        "seed used to split the starting dataset.\n",
        "\"\"\"\n",
        "\n",
        "target_label = 'PINCP'\n",
        "forbidden_columns = ['PERNP', 'WIGP']\n",
        "\"\"\"Label to predict and columns to remove.\"\"\"\n",
        "\n",
        "\n",
        "split_weights = [0.9, 0.1]\n",
        "split_seed = 12345\n",
        "\"\"\"Determine how to split the pre-processed Dataframe.\n",
        "\n",
        "The first weight refers to the training set, and the second to the test set.\n",
        "They both need to be values between 0 and 1, and sum up to 1.\n",
        "\"\"\"\n",
        "\n",
        "missing_label_substitution = \"zero\"\n",
        "\"\"\"string: how to fill the missing values in target label\n",
        "\n",
        "Setting the variable to \"zero\" means substitute empty target cell with 0; a\n",
        "value of None means removing the entire row where datum is missing.\n",
        "\"\"\"\n",
        "\n",
        "nan_substitution_strategy = 'mean'\n",
        "\"\"\"string: The strategy to use to remove NaN.\n",
        "\n",
        "The string can assume the following values:\n",
        "    - \"mean\"\n",
        "    - \"median\"\n",
        "\"\"\"\n",
        "\n",
        "pca_new_space_dimension = 50\n",
        "\"\"\"int: Number of features to preserve with PCA \"\"\"\n",
        "\n",
        "cross_validation_folds = 5\n",
        "cross_validation_internal_split_seed = 1234\n",
        "cross_validation_alphas = [*np.logspace(-8, 0, 7), *np.logspace(0.1, 3, 8)]\n",
        "\"\"\"Number of folds and list of alphas to use in cross validation.\n",
        "\n",
        "Alphas must be a list of values, each of which will be used as ridge regression\n",
        "hyperparameter.\n",
        "\n",
        "The seed is used for internal splitting of the folds.\n",
        "\"\"\"\n",
        "\n",
        "caching = True\n",
        "\"\"\"bool: Decide to cache or not some RDDs. \"\"\"\n",
        "\n",
        "outlier_strategy = \"iqr\"\n",
        "\"\"\"string: The strategy used to trim outliers\n",
        "\n",
        "The admitted string are:\n",
        "    - \"iqr\" = use the interquartile range.\n",
        "\n",
        "If set to None, no trim is performed.\n",
        "\"\"\"\n",
        "\n",
        "number_of_partitions = sc.defaultParallelism * 2\n",
        "\"\"\"int: Define the level of parallelelism to use\n",
        "\n",
        "By default, `defaultParallelism` corresponds to the number of cores of the machine.\n",
        "As a rule of thumbs, a good choice for the number of partitions is two/three times\n",
        "the amount of cores.\n",
        "\"\"\"\n",
        "\n",
        "verbose = True\n",
        "\"\"\"bool: Print information about some expensive operation.\n",
        "\n",
        "This flag is used as a guard for some cpu expensive operation: set it to False\n",
        "to increase the execution time.\n",
        "\"\"\"\n",
        "\n",
        "print()"
      ],
      "execution_count": 4,
      "outputs": [
        {
          "output_type": "stream",
          "text": [
            "\n"
          ],
          "name": "stdout"
        }
      ]
    },
    {
      "cell_type": "markdown",
      "metadata": {
        "id": "XvkHfQ1-R6xl"
      },
      "source": [
        "# Load data into DataFrame"
      ]
    },
    {
      "cell_type": "code",
      "metadata": {
        "colab": {
          "base_uri": "https://localhost:8080/"
        },
        "id": "24YoM2BpR6xl",
        "outputId": "3ed2ade3-3f96-4a02-9490-af09072b20e1"
      },
      "source": [
        "# base_path = \"/home/stefano/codes/progetto_amd_prova/\"\n",
        "base_path = '/content/data/'\n",
        "df = spark.read.csv(base_path + dataset_to_load,\n",
        "                    inferSchema=True,\n",
        "                    header=True) \\\n",
        "               .sample(withReplacement=False,\n",
        "                       fraction=dataset_sample_fraction,\n",
        "                       seed=dataset_sample_seed)\n",
        "\n",
        "if verbose:\n",
        "    print('The loaded dataframe has the following shape: {} rows - {} columns'\n",
        "          .format(df.count(), len(df.columns)))"
      ],
      "execution_count": 5,
      "outputs": [
        {
          "output_type": "stream",
          "text": [
            "The loaded dataframe has the following shape: 161090 rows - 283 columns\n"
          ],
          "name": "stdout"
        }
      ]
    },
    {
      "cell_type": "code",
      "metadata": {
        "colab": {
          "base_uri": "https://localhost:8080/"
        },
        "id": "SqtbzINsR6xp",
        "outputId": "6bf8de03-bd75-4fc6-c598-1a84f854a31e"
      },
      "source": [
        "if verbose: df.describe(target_label).show()"
      ],
      "execution_count": 6,
      "outputs": [
        {
          "output_type": "stream",
          "text": [
            "+-------+-----------------+\n",
            "|summary|            PINCP|\n",
            "+-------+-----------------+\n",
            "|  count|           132969|\n",
            "|   mean|36060.03375974851|\n",
            "| stddev|55033.52019558743|\n",
            "|    min|           -11600|\n",
            "|    max|          1088000|\n",
            "+-------+-----------------+\n",
            "\n"
          ],
          "name": "stdout"
        }
      ]
    },
    {
      "cell_type": "markdown",
      "metadata": {
        "id": "gOvfidifR6xs"
      },
      "source": [
        "# Preprocessing\n",
        "\n",
        "## remove unused columns"
      ]
    },
    {
      "cell_type": "code",
      "metadata": {
        "colab": {
          "base_uri": "https://localhost:8080/"
        },
        "id": "oP7PhmxpR6xt",
        "outputId": "f940bc71-176d-4965-d062-3fb4188adeaa"
      },
      "source": [
        "# remove banned columns\n",
        "print('The following columns cannot be used in prediction: {}'.format(forbidden_columns))\n",
        "df = df.drop(*forbidden_columns)\n",
        "print('The new total number of column is {}'.format(len(df.columns)))\n",
        "\n",
        "# remove columns of string type\n",
        "print('Remove columns which have string type')\n",
        "str_type_cols = [t[0] for t in df.dtypes if t[1] == 'string']\n",
        "print('The following columns are going to be removed: {}'.format(str_type_cols))\n",
        "df = df.drop(*str_type_cols)\n",
        "print('The new total number of column is {}'.format(len(df.columns)))\n",
        "print()"
      ],
      "execution_count": 7,
      "outputs": [
        {
          "output_type": "stream",
          "text": [
            "The following columns cannot be used in prediction: ['PERNP', 'WIGP']\n",
            "The new total number of column is 282\n",
            "Remove columns which have string type\n",
            "The following columns are going to be removed: ['RT', 'NAICSP', 'SOCP']\n",
            "The new total number of column is 279\n",
            "\n"
          ],
          "name": "stdout"
        }
      ]
    },
    {
      "cell_type": "code",
      "metadata": {
        "id": "FYAdKIQyR6xw"
      },
      "source": [
        "import pyspark.sql.functions as F"
      ],
      "execution_count": 8,
      "outputs": []
    },
    {
      "cell_type": "code",
      "metadata": {
        "colab": {
          "base_uri": "https://localhost:8080/"
        },
        "id": "Eau0m5ypR6xz",
        "outputId": "b148c860-3134-4ce3-e8d5-5ab22d5b4b4a"
      },
      "source": [
        "# cast all values to float\n",
        "print('Casting all values to float\\n')\n",
        "df = df.select(*(F.col(c).cast(\"float\").alias(c) for c in df.columns))"
      ],
      "execution_count": 9,
      "outputs": [
        {
          "output_type": "stream",
          "text": [
            "Casting all values to float\n",
            "\n"
          ],
          "name": "stdout"
        }
      ]
    },
    {
      "cell_type": "markdown",
      "metadata": {
        "id": "ldhiNewsR6x2"
      },
      "source": [
        "## manage missing values in target label"
      ]
    },
    {
      "cell_type": "code",
      "metadata": {
        "colab": {
          "base_uri": "https://localhost:8080/"
        },
        "id": "2pJqUXkCR6x3",
        "outputId": "2d7704c1-2c9f-4abc-8f21-1404d58404b7"
      },
      "source": [
        "if missing_label_substitution == \"zero\":\n",
        "    df = df.fillna({target_label: 0})\n",
        "else:\n",
        "    df = df.filter(df[target_label].isNotNull())\n",
        "if verbose: \n",
        "    print(\"The new total number of rows is {}\".format(df.count()))"
      ],
      "execution_count": 10,
      "outputs": [
        {
          "output_type": "stream",
          "text": [
            "The new total number of rows is 161090\n"
          ],
          "name": "stdout"
        }
      ]
    },
    {
      "cell_type": "markdown",
      "metadata": {
        "id": "ztJ7sjy_cLQP"
      },
      "source": [
        "# Split dataframe into training and test set"
      ]
    },
    {
      "cell_type": "code",
      "metadata": {
        "id": "t6at2i3scQBV",
        "colab": {
          "base_uri": "https://localhost:8080/"
        },
        "outputId": "9a884ab9-05a7-4ac6-92bf-13b081faa966"
      },
      "source": [
        "df_train, df_test = df.randomSplit(split_weights,\n",
        "                                   seed=split_seed)\n",
        "\n",
        "print(\"Dimensions: training set = {}, test set = {}\"\n",
        "      .format(df_train.count(),\n",
        "              df_test.count()))"
      ],
      "execution_count": 11,
      "outputs": [
        {
          "output_type": "stream",
          "text": [
            "Dimensions: training set = 144734, test set = 16356\n"
          ],
          "name": "stdout"
        }
      ]
    },
    {
      "cell_type": "markdown",
      "metadata": {
        "id": "vMUeJHb5XT4v"
      },
      "source": [
        "## find out and trim the outliers"
      ]
    },
    {
      "cell_type": "code",
      "metadata": {
        "id": "OQ1SDC04XT4v"
      },
      "source": [
        "def compute_quantiles(dataframe, percentiles, approx):\n",
        "    return dataframe.approxQuantile(target_label,\n",
        "                                    percentiles,\n",
        "                                    approx)"
      ],
      "execution_count": 12,
      "outputs": []
    },
    {
      "cell_type": "code",
      "metadata": {
        "id": "YPfdLxnYXT4v",
        "colab": {
          "base_uri": "https://localhost:8080/"
        },
        "outputId": "e9ccc9a2-2d3f-47ca-b782-f205ab684645"
      },
      "source": [
        "if outlier_strategy == \"iqr\":\n",
        "    approx = 0.01\n",
        "\n",
        "    percentiles = [.25, .75]\n",
        "\n",
        "    quantiles = compute_quantiles(df_train,\n",
        "                                  percentiles,\n",
        "                                  approx)\n",
        "\n",
        "    min_label = df_train.select(F.min(target_label).alias(\"MIN\")) \\\n",
        "                        .limit(1) \\\n",
        "                        .collect()[0].MIN\n",
        "    max_label = df_train.select(F.max(target_label).alias(\"MAX\")) \\\n",
        "                        .limit(1) \\\n",
        "                        .collect()[0].MAX\n",
        "\n",
        "    iqr = quantiles[1] - quantiles[0]\n",
        "    lower_whisker = quantiles[0] - iqr * 1.5\n",
        "    upper_whisker = quantiles[1] + iqr * 1.5\n",
        "\n",
        "    lower_whisker = lower_whisker if lower_whisker > min_label else min_label\n",
        "    upper_whisker = upper_whisker if upper_whisker < max_label else max_label\n",
        "\n",
        "\n",
        "    print(\"quantiles: {}\\n whiskers: {},{}\"\n",
        "          .format(quantiles,\n",
        "                  lower_whisker,\n",
        "                  upper_whisker))\n",
        "\n",
        "    df_train = df_train.filter(df_train[target_label] > lower_whisker) \\\n",
        "                       .filter(df_train[target_label] < upper_whisker)\n",
        "\n",
        "    if verbose:\n",
        "        df_train.describe(target_label).show()\n",
        "\n",
        "else:\n",
        "    print(\"no outlier trimming performed\")"
      ],
      "execution_count": 13,
      "outputs": [
        {
          "output_type": "stream",
          "text": [
            "quantiles: [0.0, 38000.0]\n",
            " whiskers: -11600.0,95000.0\n",
            "+-------+------------------+\n",
            "|summary|             PINCP|\n",
            "+-------+------------------+\n",
            "|  count|            135710|\n",
            "|   mean|20030.318451108982|\n",
            "| stddev| 23175.89911253234|\n",
            "|    min|          -11100.0|\n",
            "|    max|           94930.0|\n",
            "+-------+------------------+\n",
            "\n"
          ],
          "name": "stdout"
        }
      ]
    },
    {
      "cell_type": "markdown",
      "metadata": {
        "id": "imaaiHnAR6x6"
      },
      "source": [
        "## substitute NaN values with the mean of corresponding column"
      ]
    },
    {
      "cell_type": "code",
      "metadata": {
        "id": "caG0FEbcR6x7"
      },
      "source": [
        "from pyspark.ml.feature import Imputer"
      ],
      "execution_count": 14,
      "outputs": []
    },
    {
      "cell_type": "code",
      "metadata": {
        "colab": {
          "base_uri": "https://localhost:8080/"
        },
        "id": "zmMzwRbiR6yA",
        "outputId": "5315adae-0538-4bfb-f328-260e6aaff457"
      },
      "source": [
        "%%time\n",
        "# create the imputer\n",
        "imputer = Imputer(strategy=nan_substitution_strategy,\n",
        "                  inputCols=df.columns,\n",
        "                  outputCols=df.columns)\n",
        "\n",
        "# transoform the entire dataframe according to the model\n",
        "imputer_model = imputer.fit(df_train)\n",
        "df_train = imputer_model.transform(df_train)"
      ],
      "execution_count": 15,
      "outputs": [
        {
          "output_type": "stream",
          "text": [
            "CPU times: user 129 ms, sys: 27.9 ms, total: 157 ms\n",
            "Wall time: 1min 15s\n"
          ],
          "name": "stdout"
        }
      ]
    },
    {
      "cell_type": "markdown",
      "metadata": {
        "id": "nOa8F2CHR6yD"
      },
      "source": [
        "# Tranform dataset\n",
        "\n",
        "First create a new column which is the union of all other columns except the target label.\n",
        "Then scale all features, removing mean and stddev.\n",
        "Finally, performe a PCA reduction over the scaled features."
      ]
    },
    {
      "cell_type": "code",
      "metadata": {
        "id": "xrfhzKhyR6yE"
      },
      "source": [
        "from pyspark.ml.feature import VectorAssembler, StandardScaler, PCA"
      ],
      "execution_count": 16,
      "outputs": []
    },
    {
      "cell_type": "code",
      "metadata": {
        "colab": {
          "base_uri": "https://localhost:8080/"
        },
        "id": "-X3flQxkR6yG",
        "outputId": "996a4718-545c-45e7-e912-eb3b0b1bcb7e"
      },
      "source": [
        "%%time\n",
        "\n",
        "fet_vec_output_col = \"features\"\n",
        "std_scaler_output_col = \"features_scaled\"\n",
        "final_output_col = \"pca_features\"\n",
        "\n",
        "features = df_train.columns\n",
        "features.remove(target_label)\n",
        "\n",
        "features_vec = VectorAssembler(inputCols=features,\n",
        "                               outputCol=fet_vec_output_col)\n",
        "\n",
        "df_train = features_vec.transform(df_train)\n",
        "\n",
        "standard_scaler = StandardScaler(inputCol=fet_vec_output_col,\n",
        "                                     outputCol=std_scaler_output_col)\n",
        "\n",
        "std_scaler_model = standard_scaler.fit(df_train)\n",
        "df_train = std_scaler_model.transform(df_train)\n",
        "\n",
        "\n",
        "pca = PCA(k=pca_new_space_dimension,\n",
        "          inputCol=std_scaler_output_col,\n",
        "          outputCol=final_output_col)\n",
        "\n",
        "pca_model = pca.fit(df_train)\n",
        "df_train = pca_model.transform(df_train)\n",
        "\n",
        "\n",
        "df_train = df_train.select([target_label, final_output_col])\n",
        "\n",
        "if verbose:\n",
        "    print(\"Dataframe of target/features values has the following shape: {} rows, {} cols\"\n",
        "         .format(df_train.count(), len(df_train.columns)))\n",
        "\n",
        "df_train.show()"
      ],
      "execution_count": 17,
      "outputs": [
        {
          "output_type": "stream",
          "text": [
            "Dataframe of target/features values has the following shape: 135710 rows, 2 cols\n",
            "+-------+--------------------+\n",
            "|  PINCP|        pca_features|\n",
            "+-------+--------------------+\n",
            "|40000.0|[13.6324862861924...|\n",
            "|10300.0|[8.47200530498123...|\n",
            "|32100.0|[19.2754211897966...|\n",
            "| 5800.0|[17.2285739057173...|\n",
            "|25000.0|[9.81750039754862...|\n",
            "|20000.0|[8.24891068712797...|\n",
            "|    0.0|[43.1772331421336...|\n",
            "|    0.0|[43.1917084329363...|\n",
            "|65000.0|[12.4411860937025...|\n",
            "|    0.0|[11.9961712499833...|\n",
            "|52000.0|[10.8739027186457...|\n",
            "|35000.0|[12.3922076497665...|\n",
            "|73000.0|[10.7148185820928...|\n",
            "|11000.0|[9.59668959158559...|\n",
            "|    0.0|[9.78736320496081...|\n",
            "|    0.0|[19.7342972782481...|\n",
            "|27000.0|[19.7390800093674...|\n",
            "|    0.0|[18.1876681969526...|\n",
            "|    0.0|[15.0720734031881...|\n",
            "|14400.0|[9.36701283663964...|\n",
            "+-------+--------------------+\n",
            "only showing top 20 rows\n",
            "\n",
            "CPU times: user 84.9 ms, sys: 13.7 ms, total: 98.6 ms\n",
            "Wall time: 3min 39s\n"
          ],
          "name": "stdout"
        }
      ]
    },
    {
      "cell_type": "code",
      "metadata": {
        "id": "oJ8tO3l7XT4z",
        "colab": {
          "base_uri": "https://localhost:8080/"
        },
        "outputId": "c91401c0-1a10-4ea6-f93c-5d8d9d5e45d2"
      },
      "source": [
        "print(\"PCA retained variance: {}\"\n",
        "     .format(sum(pca_model.explainedVariance)))"
      ],
      "execution_count": 18,
      "outputs": [
        {
          "output_type": "stream",
          "text": [
            "PCA retained variance: 0.6539303121997792\n"
          ],
          "name": "stdout"
        }
      ]
    },
    {
      "cell_type": "markdown",
      "metadata": {
        "id": "e-gWFmZGdXDy"
      },
      "source": [
        "# Apply changes to test dataframe\n"
      ]
    },
    {
      "cell_type": "code",
      "metadata": {
        "id": "W9581sM_dh36",
        "colab": {
          "base_uri": "https://localhost:8080/"
        },
        "outputId": "8f6bdd96-6f5d-4bba-988a-b50d1589fb3a"
      },
      "source": [
        "df_test = imputer_model.transform(df_test)\n",
        "\n",
        "df_test = features_vec.transform(df_test)\n",
        "df_test = std_scaler_model.transform(df_test)\n",
        "\n",
        "df_test = pca_model.transform(df_test)\n",
        "\n",
        "df_test = df_test.select([target_label, final_output_col])\n",
        "\n",
        "df_test.show()"
      ],
      "execution_count": 19,
      "outputs": [
        {
          "output_type": "stream",
          "text": [
            "+--------+--------------------+\n",
            "|   PINCP|        pca_features|\n",
            "+--------+--------------------+\n",
            "| 53000.0|[11.6342379944668...|\n",
            "| 45400.0|[15.0570197856349...|\n",
            "| 15000.0|[21.0080653752614...|\n",
            "| 50000.0|[12.4094068073228...|\n",
            "|   780.0|[12.0739007792263...|\n",
            "| 20000.0|[16.5461618028497...|\n",
            "| 63000.0|[18.3365049031775...|\n",
            "| 22500.0|[12.9402567587973...|\n",
            "|  9200.0|[11.9561656120535...|\n",
            "| 26600.0|[13.1601813792062...|\n",
            "|     0.0|[13.3620580758227...|\n",
            "|     0.0|[19.1958029466928...|\n",
            "| 23000.0|[12.1866782682206...|\n",
            "|     0.0|[11.9873467223289...|\n",
            "|   880.0|[9.82390968675147...|\n",
            "|  4220.0|[16.2928186425093...|\n",
            "|     0.0|[22.8007843783457...|\n",
            "| 35000.0|[17.4613910721197...|\n",
            "|  8800.0|[9.81420619211907...|\n",
            "|120000.0|[20.2451166433767...|\n",
            "+--------+--------------------+\n",
            "only showing top 20 rows\n",
            "\n"
          ],
          "name": "stdout"
        }
      ]
    },
    {
      "cell_type": "markdown",
      "metadata": {
        "id": "1UYPRW26R6yJ"
      },
      "source": [
        "# Create RDD from DataFrame"
      ]
    },
    {
      "cell_type": "code",
      "metadata": {
        "colab": {
          "base_uri": "https://localhost:8080/"
        },
        "id": "BWOF4CaeR6yK",
        "outputId": "29e1ecf4-dc41-4ee0-8ea2-1e891d835558"
      },
      "source": [
        "training_set = df_train.rdd\n",
        "test_set = df_test.rdd\n",
        "\n",
        "print(training_set.take(3))\n",
        "print(test_set.take(3))"
      ],
      "execution_count": 20,
      "outputs": [
        {
          "output_type": "stream",
          "text": [
            "[Row(PINCP=40000.0, pca_features=DenseVector([13.6325, 0.0853, 83.2376, -50.3635, -18.8911, 21.9402, -14.9776, -50.3937, -31.5226, 121.8372, -54.5186, -76.5295, 325.5155, 37.3692, -137.7339, 17.3955, -66.213, -137.4382, 87.8619, 67.2541, 21.4968, 4.9371, 13.4411, 2.0411, -44.2507, 3.8374, 21.6328, 28.4333, 13.3834, -53.9963, -21.3063, -20.5373, 21.6479, 8.5446, -4.5578, -9.3939, 2.8014, -17.9414, 27.3006, 23.7703, 7.932, 3.5842, 7.0831, -20.3963, -5.2537, 13.3827, 5.7059, 63.5839, -32.5431, -27.5743])), Row(PINCP=10300.0, pca_features=DenseVector([8.472, 0.1141, 75.2942, -50.8987, -22.445, 26.014, -14.4624, -48.9645, -31.9792, 121.4062, -55.0399, -77.9655, 324.3305, 38.448, -140.1146, 16.5421, -66.0692, -136.855, 87.4111, 67.4457, 21.3948, 7.2619, 13.5258, 4.2575, -44.926, 3.697, 20.9031, 29.968, 12.4629, -53.9185, -19.1327, -21.0582, 21.6615, 8.2657, -5.3489, -8.7411, 3.5757, -19.6439, 25.4714, 26.1927, 9.5953, 0.681, 6.82, -20.0962, -5.0155, 13.9231, 5.5066, 64.0478, -33.2149, -27.2722])), Row(PINCP=32100.0, pca_features=DenseVector([19.2754, 1.3896, 77.8045, -49.7553, -19.3483, 22.5162, -18.1969, -51.0805, -28.6615, 122.9424, -54.9746, -77.7577, 325.3127, 37.9842, -136.8567, 16.458, -66.0594, -138.5572, 86.5466, 69.1615, 21.1071, 4.7371, 13.7345, 1.5952, -43.2903, 4.3183, 20.919, 27.0213, 12.9516, -55.314, -21.2693, -20.2522, 21.2798, 8.6657, -3.3527, -7.9426, 5.6632, -17.1279, 29.4004, 25.1039, 5.3938, 2.1836, 9.5161, -18.6735, -4.6575, 13.2491, 2.991, 65.5802, -33.5843, -26.8542]))]\n",
            "[Row(PINCP=53000.0, pca_features=DenseVector([11.6342, -0.3547, 79.005, -52.1412, -20.5087, 25.2042, -18.063, -52.3857, -30.4024, 124.0262, -55.4099, -77.4234, 325.2678, 36.235, -137.5429, 16.3474, -64.3746, -138.0772, 87.3617, 67.2888, 20.5459, 4.2375, 15.7383, 2.8342, -43.5342, 3.2572, 20.7088, 25.7529, 12.12, -51.5184, -21.0726, -21.2866, 20.4229, 10.7993, -5.5022, -6.8686, 0.5204, -16.4996, 28.1762, 23.3961, 7.7295, 1.4565, 2.5262, -25.1365, -2.8208, 14.1499, 3.8979, 63.6911, -31.1052, -27.692])), Row(PINCP=45400.0, pca_features=DenseVector([15.057, 25.8793, 81.4186, -47.2453, -20.1888, 25.6184, -16.674, -48.3765, -31.5786, 117.8488, -57.5, -77.4061, 327.2988, 38.3139, -136.8546, 14.0874, -67.2554, -135.2489, 89.1087, 67.4398, 23.4683, 6.9732, 12.4048, 1.9624, -44.4822, 2.1585, 22.2293, 27.0197, 12.8133, -53.9723, -21.4516, -20.3357, 20.7379, 7.5212, -3.5675, -5.889, 3.494, -17.4629, 27.6698, 24.769, 6.0943, 2.3629, 7.3994, -20.2016, -3.8654, 11.7889, 2.3414, 61.7779, -33.2931, -27.8646])), Row(PINCP=15000.0, pca_features=DenseVector([21.0081, 0.0358, 80.9319, -51.0102, -19.0613, 23.2485, -17.4233, -51.5217, -29.9765, 123.1514, -54.6953, -77.8739, 325.6539, 37.3142, -137.6604, 16.0023, -65.0902, -137.4376, 88.5576, 68.5659, 21.3099, 3.3118, 14.1988, 2.6562, -42.7603, 4.9846, 20.6817, 27.6504, 13.7672, -53.374, -21.7314, -19.4163, 21.0364, 7.6932, -5.1247, -10.941, 2.6921, -17.6766, 26.5985, 22.922, 7.4691, 2.9996, 10.2085, -22.2673, -6.1933, 13.1848, 4.299, 62.5414, -33.0204, -27.0391]))]\n"
          ],
          "name": "stdout"
        }
      ]
    },
    {
      "cell_type": "code",
      "metadata": {
        "id": "vbqVyHnHR6yM"
      },
      "source": [
        "from pyspark.mllib.feature import LabeledPoint"
      ],
      "execution_count": 21,
      "outputs": []
    },
    {
      "cell_type": "code",
      "metadata": {
        "id": "OP_sKcBYR6yP"
      },
      "source": [
        "def to_labeledPoint(row, label_col, features_col):\n",
        "    label = row[label_col]\n",
        "    # DenseVector can't be used to create a LabeledPoint\n",
        "    features = row[features_col].values\n",
        "    return LabeledPoint(label, features)"
      ],
      "execution_count": 22,
      "outputs": []
    },
    {
      "cell_type": "code",
      "metadata": {
        "colab": {
          "base_uri": "https://localhost:8080/"
        },
        "id": "wUWB-0yzR6yS",
        "outputId": "ebf195d5-c8be-4801-d60c-2ad3319412ab"
      },
      "source": [
        "training_set = training_set.map(lambda row: to_labeledPoint(row,\n",
        "                                                            target_label,\n",
        "                                                            final_output_col))\n",
        "\n",
        "test_set = test_set.map(lambda row: to_labeledPoint(row,\n",
        "                                                    target_label,\n",
        "                                                    final_output_col))\n",
        "if caching: test_set.cache()\n",
        "\n",
        "training_set = training_set.repartition(12)\n",
        "test_set = test_set.repartition(12)\n",
        "\n",
        "print(training_set.take(3))\n",
        "print(test_set.take(3))"
      ],
      "execution_count": 23,
      "outputs": [
        {
          "output_type": "stream",
          "text": [
            "[LabeledPoint(44000.0, [16.860897359186602,0.07963893162862652,83.93587835279459,-50.33880965686178,-18.38329976260558,21.565671958822538,-15.059462933804951,-50.73355037599135,-31.081526274158186,121.77629492276799,-54.31085639625604,-76.96378241111033,325.8341264658051,37.29407134910344,-137.72873071980666,16.74986755095756,-65.37526490489903,-137.67859149782998,89.02600034919011,67.66495763091524,21.14728467707734,3.8357134921657314,13.831189174930042,2.411191009436442,-43.61047147641573,4.487395828059593,20.60176755128367,28.32206163073832,13.480690475341467,-53.56004340033765,-22.042747387672446,-19.83232108234571,20.92669890103254,8.45471072327581,-5.299080349475856,-11.29802335913941,2.921910899330318,-16.928391910233813,26.466653796211073,23.600493569089526,7.7084024825224,4.091538211435723,9.454897963099004,-22.11252367375812,-6.057689397625005,13.719903886492759,4.637735373741475,62.85938349350685,-32.950605116675675,-27.35646601783155]), LabeledPoint(3600.0, [19.108068505183123,0.03399068501536193,79.25310720861073,-50.74949000396088,-19.386283020572694,23.514844701211874,-17.235406386130975,-50.48053671577481,-31.418567330457343,124.36809998903131,-59.57123952220394,-80.524518404322,322.7488971164693,25.926709929562154,-138.14640575752034,16.18173154059103,-67.06867840619427,-139.83606761996487,87.95665430844655,71.04167534196341,20.009691418588364,5.728508699782247,12.743796439821649,1.356971351771482,-43.42140438350539,5.025423501795557,23.598678367853015,30.766889412046194,12.204534227270159,-49.574292398300294,-22.378411068385322,-21.01959374641559,22.287225509719335,7.250313921177517,-3.352879765890378,-10.078874079655426,2.6813814427092924,-18.36142068779697,25.31817071024602,22.492824682838062,6.571251353052888,2.2793333066845847,7.957126319486528,-21.050176650545108,-5.8195559203157785,13.28132927684771,5.091134582318235,64.00085559994855,-32.94507221611412,-28.58628961002159]), LabeledPoint(0.0, [26.252740499930194,0.39262356649293656,80.88637780526061,-55.89871700561518,-23.110442597051396,24.247664996291764,-15.822172700204451,-47.70516776099928,-28.893238566173586,120.1738918925813,-53.99419727451905,-74.92331293323164,325.30998795657746,34.41539910053582,-138.33945701378985,15.906002883590014,-63.30684129708097,-139.3155452865367,89.38863360299105,68.21072088734613,20.887839516338975,3.619050364359602,13.995077873107489,0.5725933238473562,-44.71628014808696,3.2867329236517384,24.267326352149123,28.05974421025267,12.649539630664304,-52.241908154936134,-18.03724152849902,-21.50030565974978,19.477496590561593,7.534971854979884,-4.8792253276806825,-10.181170990127884,4.183984910803105,-18.086608446268418,27.244509909500398,24.808979665566863,6.511037050182575,1.2979450185644064,7.702032719906282,-20.138622048141634,-4.43575011613674,13.122152629369866,5.250378233599165,61.58581460744875,-32.04606944336553,-26.92788327050026])]\n",
            "[LabeledPoint(65000.0, [16.2002817832048,0.36734363696823413,76.47423316854936,-49.300050598892895,-19.097498510657513,22.160753761915476,-17.63963274733834,-49.90982999274839,-28.805322473758142,121.95224486016163,-54.10418951922254,-75.7472437208736,325.67395430250826,37.28175689736701,-137.477379550258,16.923761461449867,-66.41948151753029,-139.15292387670448,86.02127929900502,69.30911640754476,20.9957636374318,5.966039048246352,12.517687566622508,1.4499990141953347,-44.59289706282601,3.142295671697073,21.973065351266374,29.408261986239133,13.087362547511535,-54.43846433616982,-22.08289581763109,-19.956858811831967,21.519422996939277,6.897581616434342,-4.216956543130948,-9.403760429466095,3.2705708183399325,-18.52955046049451,28.406966014039746,23.40986902895619,7.233883298686127,0.984384819880537,7.100198346233015,-19.555373645300342,-5.459145227158423,11.516232493692668,3.4597486370770647,62.82765325829332,-31.767136944019175,-27.3782362234026]), LabeledPoint(0.0, [26.273725191605145,3.6995893156530935,76.93795156299419,-54.055193555510705,-17.543723021443736,21.403288870992323,-20.42193958785157,-50.507762036415606,-31.868130053057335,124.24939554320787,-52.76915336603035,-76.2593121812577,325.4192519947957,35.467669880882156,-139.60135398841643,15.036256514084455,-64.34085123248359,-135.94688796488262,89.07264191316304,66.53004119102441,22.31414173509216,2.9086645255415835,10.806169362838366,3.835683542241464,-44.0494934911087,4.664216709409871,21.336600986555652,27.915540812703405,13.02653743354776,-54.50283444496428,-22.009617987627546,-21.07258185775763,20.213438851315882,8.798967135646185,-5.792331988318181,-10.683356198509026,2.4157475862106903,-16.668221142876412,27.717611339301374,22.69921994874993,7.848727899530393,0.905466818027008,6.972933332952726,-21.100518730155425,-4.687858724802489,13.234197505960882,5.855577688727669,62.683750107856085,-32.9073255857807,-27.801966699204023]), LabeledPoint(0.0, [11.365890838235376,-0.34788836441321597,81.17516478424793,-53.35033885307898,-18.620522225339986,24.32265557731134,-16.334512819451483,-51.348924279434065,-29.05535739366818,120.69501428698022,-52.40009634409549,-76.47945953461159,325.7947226919234,35.96739952076404,-138.81270043088986,15.593744968099339,-65.16014182946238,-137.34607000208027,88.04734860244847,67.94176653554834,20.680096947206835,5.3174850538358704,12.453770793329625,2.64609842906263,-44.11576898054128,4.488679045918066,22.108680914422496,27.736269607198768,13.293828641056198,-54.08713603769699,-21.62160896428043,-21.03486841027513,21.17791032358146,8.823985499481637,-4.6992093992273825,-9.264082694912613,3.0474366823696033,-16.793855353399916,27.399353571570696,23.79546564688638,7.512175420488855,1.3022731002821057,6.812703991673419,-21.525675727651162,-4.937773792465697,13.23318422666089,5.589711019112719,62.27913959901768,-32.242472313681695,-28.613584125242244])]\n"
          ],
          "name": "stdout"
        }
      ]
    },
    {
      "cell_type": "markdown",
      "metadata": {
        "id": "MSrGRDK4R6yX"
      },
      "source": [
        "# Function estimator"
      ]
    },
    {
      "cell_type": "code",
      "metadata": {
        "id": "FNkMPN9NR6yY"
      },
      "source": [
        "def squared_err(expected, prediction):\n",
        "    '''Compute the squared error, i.e. the squared difference between the inputs'''    \n",
        "    return (expected - prediction) ** 2"
      ],
      "execution_count": 24,
      "outputs": []
    },
    {
      "cell_type": "code",
      "metadata": {
        "id": "8XCMAWxdR6ya"
      },
      "source": [
        "def mean_squared_error(rdd):\n",
        "    '''Compute the mean squared error of the given RDD.\n",
        "    \n",
        "    The RDD must be of the form RDD[(float, float)]\n",
        "    '''\n",
        "    return rdd.map(lambda p: squared_err(*p)).mean()"
      ],
      "execution_count": 25,
      "outputs": []
    },
    {
      "cell_type": "code",
      "metadata": {
        "id": "s_DvF-TYR6yd"
      },
      "source": [
        "def root_mean_squared_error(rdd):\n",
        "    '''Computes the root mean squared error of the given RDD.\n",
        "    \n",
        "    The RDD in input must be of the form RDD[(float, float)]'''\n",
        "    return np.sqrt(mean_squared_error(rdd))"
      ],
      "execution_count": 26,
      "outputs": []
    },
    {
      "cell_type": "code",
      "metadata": {
        "id": "CD6BGLFtR6yf"
      },
      "source": [
        "def r2(rdd):\n",
        "    '''Computes the R2 coefficient of determination\n",
        "    \n",
        "    The RDD in input must be of the form RDD[(float, float)], where the first float\n",
        "    is the actual value, and the second float is the predicted value.\n",
        "    '''\n",
        "    mean_ = rdd.map(lambda t: t[0]).mean()\n",
        "    sum_squares = rdd.map(lambda t: (t[0] - mean_)**2).sum()\n",
        "    residual_sum_squares = rdd.map(lambda t: squared_err(*t)).sum()\n",
        "    return 1 - (residual_sum_squares / sum_squares)"
      ],
      "execution_count": 27,
      "outputs": []
    },
    {
      "cell_type": "markdown",
      "metadata": {
        "id": "QP2Cn2juKZ4p"
      },
      "source": [
        "# Baseline algorithm\n"
      ]
    },
    {
      "cell_type": "code",
      "metadata": {
        "colab": {
          "base_uri": "https://localhost:8080/"
        },
        "id": "kcxqxm0pKfh3",
        "outputId": "5daedcdb-4a3c-4aca-86ab-99b588ca20b8"
      },
      "source": [
        "# get label main\n",
        "label_mean = training_set.map(lambda lp: lp.label).mean()\n",
        "\n",
        "# create and RDD of (label, prediction)\n",
        "baseline_train_prediction_rdd = training_set.map(lambda lp: (lp.label, label_mean))\n",
        "\n",
        "# predict test set\n",
        "baseline_test_prediction_rdd = test_set.map(lambda lp: (lp.label, label_mean))\n",
        "\n",
        "## compute stats\n",
        "# mse\n",
        "baseline_train_mse = mean_squared_error(baseline_train_prediction_rdd)\n",
        "baseline_test_mse = mean_squared_error(baseline_test_prediction_rdd)\n",
        "\n",
        "# rmse\n",
        "baseline_train_rmse = root_mean_squared_error(baseline_train_prediction_rdd)\n",
        "baseline_test_rmse = root_mean_squared_error(baseline_test_prediction_rdd)\n",
        "\n",
        "print('BASELINE VALUES\\n'\n",
        "      '\\tMSE:\\n\\ttrain: {:.5e}\\n\\ttest: {:.5e}'.format(baseline_train_mse, baseline_test_mse))\n",
        "print('\\tRMSE:\\n\\ttrain: {:.5e}\\n\\ttest: {:.5e}'.format(baseline_train_rmse, baseline_test_rmse))"
      ],
      "execution_count": 28,
      "outputs": [
        {
          "output_type": "stream",
          "text": [
            "BASELINE VALUES\n",
            "\tMSE:\n",
            "\ttrain: 5.37118e+08\n",
            "\ttest: 2.76667e+09\n",
            "\tRMSE:\n",
            "\ttrain: 2.31758e+04\n",
            "\ttest: 5.25991e+04\n"
          ],
          "name": "stdout"
        }
      ]
    },
    {
      "cell_type": "markdown",
      "metadata": {
        "id": "vANtFzZbR6yi"
      },
      "source": [
        "# Ridge regression"
      ]
    },
    {
      "cell_type": "code",
      "metadata": {
        "id": "6OXUBCT1R6yk"
      },
      "source": [
        "def outer_product(lp):\n",
        "    '''Computes the outer product of the features of the LabeledPoint with themselves.\n",
        "    \n",
        "    This method is meant to be used inside a map function of an RDD[LabeledPoint]\n",
        "    \n",
        "    The outer product of the input is defined as:\n",
        "        lp.features x lp.features'\n",
        "    returning an m x m matrix, with m dimension of the vector lp.features\n",
        "    '''\n",
        "    return np.array([np.dot(i,lp.features) for i in lp.features])"
      ],
      "execution_count": 29,
      "outputs": []
    },
    {
      "cell_type": "code",
      "metadata": {
        "id": "EGGLPX5aR6yn"
      },
      "source": [
        "def outer_sum(m1, m2):\n",
        "    '''Sums two matrixes'''\n",
        "    return m1+m2"
      ],
      "execution_count": 30,
      "outputs": []
    },
    {
      "cell_type": "code",
      "metadata": {
        "id": "t88TiV0nR6yq"
      },
      "source": [
        "def stripes_product(rdd):\n",
        "    '''Multiplies the design matrix with the feature vector of corresponding label\n",
        "    \n",
        "    The input must be and RDD[LabeledPoint]\n",
        "    \n",
        "    Computes a matrix-vector product, multipling each feature vector with the corresponding scalar label.\n",
        "    It is not necessary to transponse the matrix.\n",
        "    '''\n",
        "    return rdd.map(lambda lp: lp.label*lp.features).reduce(lambda v1, v2: v1+v2)"
      ],
      "execution_count": 31,
      "outputs": []
    },
    {
      "cell_type": "code",
      "metadata": {
        "id": "Wbwr0G5LR6yt"
      },
      "source": [
        "def ridge_regression(rdd, alpha=1):\n",
        "    '''Creates the ERM weights according to Ridge Regression model\n",
        "    \n",
        "    The RDD in input must be of the form RDD[LabeledPoint]\n",
        "    '''\n",
        "    A = rdd.map(outer_product).reduce(outer_sum)\n",
        "    np.fill_diagonal(A, A.diagonal()+alpha)\n",
        "    V = stripes_product(rdd)\n",
        "    return np.linalg.inv(A).dot(V)"
      ],
      "execution_count": 32,
      "outputs": []
    },
    {
      "cell_type": "code",
      "metadata": {
        "id": "HTdruNw1R6yv"
      },
      "source": [
        "def predict(weights, features):\n",
        "    '''Predicts the output according to the given weights and features'''\n",
        "    return np.dot(weights, features)"
      ],
      "execution_count": 33,
      "outputs": []
    },
    {
      "cell_type": "code",
      "metadata": {
        "id": "eudJRmxsZhW9"
      },
      "source": [
        "def cross_validation(rdd, k, alpha_set, m=None, seed=None, verbose=False):\n",
        "    '''Computes the cross validation over the given RDD\n",
        "    \n",
        "    The RDD in input must be of the form RDD[LabeledPoint]\n",
        "    \n",
        "    The returned value is a dictonary, where the keys are the given alpha inside\n",
        "    alpha_set, and the values are a list of tuple, where each tuple is of the form:\n",
        "            (fold error, fold r2 score)\n",
        "    '''\n",
        "    # split the rdd into k folds\n",
        "    split_weights = np.repeat(1/k, k)\n",
        "    folds = rdd.randomSplit(split_weights, seed=seed)\n",
        "    \n",
        "    if m is None:\n",
        "        m = rdd.count()\n",
        "        if verbose: print(\"count computed\")\n",
        "\n",
        "    scaling_factor = k / m\n",
        "    risks = {a: [] \n",
        "             for a \n",
        "             in alpha_set}\n",
        "    \n",
        "    for i in range(k):\n",
        "        Di = folds[i] # validation fold\n",
        "        if caching: Di.cache()\n",
        "        Si = folds[:i] + folds[i+1:] # all folds except Di\n",
        "        training_part = sc.union(Si) # creates testing RDD\n",
        "        training_part = training_part.repartition(12)\n",
        "        \n",
        "        for alpha in alpha_set:\n",
        "            _w = ridge_regression(training_part, alpha)\n",
        "            predicted_rdd_ = Di.map(lambda lp: (lp.label, predict(_w, lp.features)))\n",
        "            fold_r2 = r2(predicted_rdd_)\n",
        "            fold_error = scaling_factor * predicted_rdd_.map(lambda t: squared_err(*t)) \\\n",
        "                                                        .sum()\n",
        "            risks[alpha].append((fold_error, fold_r2))\n",
        "            if verbose: print('.', end='')\n",
        "        if caching: Di.unpersist()\n",
        "        print(\" fold {} computed\".format(i+1))\n",
        "\n",
        "    return risks\n"
      ],
      "execution_count": 34,
      "outputs": []
    },
    {
      "cell_type": "code",
      "metadata": {
        "colab": {
          "base_uri": "https://localhost:8080/"
        },
        "id": "hXyOr4Zxdu8q",
        "outputId": "7c262e5c-99b2-4c95-dcce-78ca528911b4"
      },
      "source": [
        "%%time\n",
        "\n",
        "# call once for all CV\n",
        "m = training_set.count()\n",
        "\n",
        "risks = cross_validation(training_set,\n",
        "                         cross_validation_folds, \n",
        "                         cross_validation_alphas, \n",
        "                         m=m, \n",
        "                         seed=cross_validation_internal_split_seed, \n",
        "                         verbose=True)"
      ],
      "execution_count": 35,
      "outputs": [
        {
          "output_type": "stream",
          "text": [
            "............... fold 1 computed\n",
            "............... fold 2 computed\n",
            "............... fold 3 computed\n",
            "............... fold 4 computed\n",
            "............... fold 5 computed\n",
            "CPU times: user 5.08 s, sys: 5.05 s, total: 10.1 s\n",
            "Wall time: 1h 7min 49s\n"
          ],
          "name": "stdout"
        }
      ]
    },
    {
      "cell_type": "code",
      "metadata": {
        "id": "YeEAoqwyZEHh",
        "colab": {
          "base_uri": "https://localhost:8080/"
        },
        "outputId": "509cb73f-5b16-4d48-e3fc-30436cee1c19"
      },
      "source": [
        "cv_risks = {\n",
        "    alpha: [t[0] for t in risk]\n",
        "    for alpha, risk \n",
        "    in risks.items()\n",
        "}\n",
        "\n",
        "scores = {\n",
        "    alpha: [t[1] for t in risk]\n",
        "    for alpha, risk \n",
        "    in risks.items()\n",
        "}\n",
        "\n",
        "# computes CV risks\n",
        "for k, v in cv_risks.items():\n",
        "    cv_risks[k] = sum(v) / len(v)\n",
        "\n",
        "min_alpha, min_risk = min(cv_risks.items(), key=lambda t: t[1])\n",
        "\n",
        "print(\"The minimum risk is {:.5E}, given by alpha={:.6}\"\n",
        "      .format(min_risk, min_alpha))"
      ],
      "execution_count": 36,
      "outputs": [
        {
          "output_type": "stream",
          "text": [
            "The minimum risk is 1.60109E+08, given by alpha=148.398\n"
          ],
          "name": "stdout"
        }
      ]
    },
    {
      "cell_type": "code",
      "metadata": {
        "id": "3ytsCb6XjDlq"
      },
      "source": [
        "import seaborn as sbn\n",
        "import matplotlib.pyplot as plt"
      ],
      "execution_count": 37,
      "outputs": []
    },
    {
      "cell_type": "markdown",
      "metadata": {
        "id": "lSXi4y_keqkg"
      },
      "source": [
        "Plot the expected risk against alpha value"
      ]
    },
    {
      "cell_type": "code",
      "metadata": {
        "id": "iPKinGPRjGv-",
        "colab": {
          "base_uri": "https://localhost:8080/",
          "height": 290
        },
        "outputId": "93732722-f109-47ab-d6f6-dc6c00954172"
      },
      "source": [
        "alpha_values = list(cv_risks.keys())\n",
        "expected_risks = list(cv_risks.values())\n",
        "\n",
        "_ = sbn.lineplot(x=alpha_values,\n",
        "                 y=expected_risks)\n",
        "ax = sbn.scatterplot(x=alpha_values,\n",
        "                     y=expected_risks)\n",
        "ax.set_xlabel(\"alpha\")\n",
        "_ = ax.set_ylabel(\"risk\")"
      ],
      "execution_count": 38,
      "outputs": [
        {
          "output_type": "display_data",
          "data": {
            "image/png": "[encoded data removed]",
            "text/plain": [
              "<Figure size 432x288 with 1 Axes>"
            ]
          },
          "metadata": {
            "tags": [],
            "needs_background": "light"
          }
        }
      ]
    },
    {
      "cell_type": "markdown",
      "metadata": {
        "id": "kATGS1xde6V5"
      },
      "source": [
        "Plot the R2 score against the alpha value"
      ]
    },
    {
      "cell_type": "code",
      "metadata": {
        "id": "eoEqeGj9ZEHt",
        "colab": {
          "base_uri": "https://localhost:8080/",
          "height": 290
        },
        "outputId": "64f92481-c77b-4ec0-9e1e-c45d32d141db"
      },
      "source": [
        "mean_scores = [np.mean(i)\n",
        "               for i\n",
        "               in scores.values()]\n",
        "\n",
        "_ = sbn.lineplot(x=list(scores.keys()),\n",
        "             y=mean_scores)\n",
        "ax = sbn.scatterplot(x=list(scores.keys()),\n",
        "             y=mean_scores)\n",
        "ax.set_xlabel(\"alpha\")\n",
        "_ = ax.set_ylabel(\"R2 score\")"
      ],
      "execution_count": 39,
      "outputs": [
        {
          "output_type": "display_data",
          "data": {
            "image/png": "[encoded data removed]",
            "text/plain": [
              "<Figure size 432x288 with 1 Axes>"
            ]
          },
          "metadata": {
            "tags": [],
            "needs_background": "light"
          }
        }
      ]
    },
    {
      "cell_type": "code",
      "metadata": {
        "id": "4VI8YQ5AZEHz",
        "colab": {
          "base_uri": "https://localhost:8080/"
        },
        "outputId": "9d587b03-8731-41df-d47a-a91635231c3b"
      },
      "source": [
        "weights = ridge_regression(training_set, alpha=min_alpha)\n",
        "#print(weights)\n",
        "#print(\"weights computed\")\n",
        "\n",
        "# prediction the same training set\n",
        "ridge_train_prediction_rdd = training_set.map(lambda lp:\n",
        "                                              (lp.label, predict(weights,\n",
        "                                                                 lp.features)))\n",
        "\n",
        "# prediction onto test set\n",
        "ridge_test_prediction_rdd = test_set.map(lambda lp:\n",
        "                                         (lp.label, predict(weights,\n",
        "                                                            lp.features)))\n",
        "\n",
        "# compute stats\n",
        "# mse\n",
        "ridge_train_mse = mean_squared_error(ridge_train_prediction_rdd)\n",
        "ridge_test_mse = mean_squared_error(ridge_test_prediction_rdd)\n",
        "\n",
        "# rmse\n",
        "ridge_train_rmse = root_mean_squared_error(ridge_train_prediction_rdd)\n",
        "ridge_test_rmse = root_mean_squared_error(ridge_test_prediction_rdd)\n",
        "\n",
        "# r2\n",
        "ridge_train_r2 = r2(ridge_train_prediction_rdd)\n",
        "ridge_test_r2 = r2(ridge_test_prediction_rdd)\n",
        "\n",
        "print('RIDGE REGRESSION\\n'\n",
        "      'Train\\n'\n",
        "      '\\tMSE: {:.5e}\\n'\n",
        "      '\\tRMSE: {:.5e}\\n'\n",
        "      '\\tR2: {:.3}'\n",
        "      .format(ridge_train_mse,\n",
        "              ridge_train_rmse,\n",
        "              ridge_train_r2))\n",
        "\n",
        "print('Test\\n'\n",
        "      '\\tMSE: {:.5e}\\n'\n",
        "      '\\tRMSE: {:.5e}\\n'\n",
        "      '\\tR2: {:.3}'\n",
        "      .format(ridge_test_mse,\n",
        "              ridge_test_rmse,\n",
        "              ridge_test_r2))"
      ],
      "execution_count": 40,
      "outputs": [
        {
          "output_type": "stream",
          "text": [
            "RIDGE REGRESSION\n",
            "Train\n",
            "\tMSE: 1.59939e+08\n",
            "\tRMSE: 1.26467e+04\n",
            "\tR2: 0.702\n",
            "Test\n",
            "\tMSE: 1.30941e+09\n",
            "\tRMSE: 3.61858e+04\n",
            "\tR2: 0.509\n"
          ],
          "name": "stdout"
        }
      ]
    },
    {
      "cell_type": "markdown",
      "metadata": {
        "id": "CkVoPwfNe-vq"
      },
      "source": [
        "Plot the prediction of ridge regression model against the true value of the label.\n",
        "\n",
        "The smaller and the lighter the point, the better the prediction is."
      ]
    },
    {
      "cell_type": "code",
      "metadata": {
        "id": "DcIyEHY4ZEH3",
        "colab": {
          "base_uri": "https://localhost:8080/",
          "height": 279
        },
        "outputId": "37c68ddd-b740-4711-b10d-a5c4a1b7eedc"
      },
      "source": [
        "%matplotlib inline\n",
        "\n",
        "predictions = np.asarray(\n",
        "    ridge_test_prediction_rdd \\\n",
        "        .map(lambda t: t[1]) \\\n",
        "        .collect())\n",
        "\n",
        "actual = np.asarray(\n",
        "    ridge_test_prediction_rdd \\\n",
        "        .map(lambda t: t[0]) \\\n",
        "        .collect())\n",
        "\n",
        "error = np.asarray(\n",
        "    ridge_test_prediction_rdd \\\n",
        "        .map(lambda t: squared_err(*t)) \\\n",
        "        .collect())\n",
        "\n",
        "    \n",
        "ax = sbn.scatterplot(x=predictions,\n",
        "                     y=actual,\n",
        "                     hue=error,\n",
        "                     size=error,\n",
        "                     sizes=(10, 250))\n",
        "\n",
        "ax.set_ylabel(\"true values\")\n",
        "_ = ax.set_xlabel(\"predictions\")\n",
        "ax.legend().remove()"
      ],
      "execution_count": 41,
      "outputs": [
        {
          "output_type": "display_data",
          "data": {
            "image/png": "[encoded data removed]",
            "text/plain": [
              "<Figure size 432x288 with 1 Axes>"
            ]
          },
          "metadata": {
            "tags": [],
            "needs_background": "light"
          }
        }
      ]
    },
    {
      "cell_type": "code",
      "metadata": {
        "id": "dixcLZY3XT49"
      },
      "source": [
        ""
      ],
      "execution_count": 41,
      "outputs": []
    }
  ]
}